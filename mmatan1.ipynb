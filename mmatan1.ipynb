{
 "cells": [
  {
   "metadata": {
    "ExecuteTime": {
     "end_time": "2024-12-14T22:14:31.102986Z",
     "start_time": "2024-12-14T22:14:31.094686Z"
    }
   },
   "cell_type": "code",
   "source": [
    "import sympy as sp\n",
    "import numpy as np\n",
    "import pandas as pd\n",
    "from sklearn.preprocessing import StandardScaler\n",
    "from sklearn.linear_model import LinearRegression"
   ],
   "id": "6760ef2df20f91a6",
   "outputs": [],
   "execution_count": 64
  },
  {
   "cell_type": "markdown",
   "id": "0dee24c0-e9bf-427b-9b04-43e4c8220228",
   "metadata": {
    "id": "0dee24c0-e9bf-427b-9b04-43e4c8220228"
   },
   "source": [
    "# Домашнее задание"
   ]
  },
  {
   "cell_type": "markdown",
   "id": "feafcfd9-2d32-4682-bcd0-07a0c9bbd32c",
   "metadata": {
    "id": "feafcfd9-2d32-4682-bcd0-07a0c9bbd32c"
   },
   "source": [
    "Математический анализ\n",
    "69 баллов"
   ]
  },
  {
   "cell_type": "markdown",
   "id": "b2345ed9-1018-4084-9636-7e7b92bd6c64",
   "metadata": {
    "id": "b2345ed9-1018-4084-9636-7e7b92bd6c64"
   },
   "source": [
    "**Задача 1** (14 баллов)\n",
    "\n",
    "Найдите экстремумы функции:"
   ]
  },
  {
   "cell_type": "markdown",
   "id": "e25e75bf-9d1e-4511-8846-8bfe99ae17f8",
   "metadata": {
    "id": "e25e75bf-9d1e-4511-8846-8bfe99ae17f8"
   },
   "source": [
    "$$\n",
    "f(x, y, z)=2 x^3+2 x y+2 x z+y^2+z^2+2 y-8 .\n",
    "$$"
   ]
  },
  {
   "cell_type": "markdown",
   "id": "ce92b07d-f19e-4f72-ab80-d04d0bae9984",
   "metadata": {
    "id": "ce92b07d-f19e-4f72-ab80-d04d0bae9984"
   },
   "source": [
    "Распишите подробное решение."
   ]
  },
  {
   "cell_type": "code",
   "id": "0eddb54d-58f6-47ed-bef4-cb262d500cbe",
   "metadata": {
    "id": "0eddb54d-58f6-47ed-bef4-cb262d500cbe",
    "ExecuteTime": {
     "end_time": "2024-12-14T22:14:31.210623Z",
     "start_time": "2024-12-14T22:14:31.156608Z"
    }
   },
   "source": [
    "# Обозначим переменные\n",
    "x,y,z = sp.symbols('x, y, z')\n",
    "# Введем функцию\n",
    "f = 2*x**3 + 2*x*y + 2*x*z + y**2 + z**2 + 2*y - 8\n",
    "\n",
    "# Находим первые частные производные по трем переменным\n",
    "f_dx = f.diff(x)\n",
    "print(f'Частная производная по х: {f_dx}')\n",
    "f_dy = f.diff(y)\n",
    "print(f'Частная производная по y: {f_dy}')\n",
    "f_dz = f.diff(z)\n",
    "print(f'Частная производная по z: {f_dz}')\n",
    "\n",
    "# Приравниваем функции частных производных к 0 и решаем как систему уравнений \n",
    "points = sp.solve([f_dx, f_dy, f_dz], [x, y, z])\n",
    "print(f'Точки экстремума: {points}')\n",
    "\n",
    "# Для определения, являются точки точками максимума, минимума или седловыми,\n",
    "# найдем частные производные второго порядка\n",
    "f_dxdx = f_dx.diff(x)\n",
    "print(f'Производная dxdx: {f_dxdx}')\n",
    "f_dydy = f_dy.diff(y)\n",
    "print(f'Производная dydy: {f_dydy}')\n",
    "f_dzdz = f_dz.diff(z)\n",
    "print(f'Производная dzdz: {f_dzdz}')\n",
    "f_dxdy = f_dx.diff(y)\n",
    "print(f'Производная dxdy: {f_dxdy}')\n",
    "f_dxdz = f_dx.diff(z)\n",
    "print(f'Производная dxdz: {f_dxdz}')\n",
    "f_dydz = f_dy.diff(z)\n",
    "print(f'Производная dxdx: {f_dydz}')\n"
   ],
   "outputs": [
    {
     "name": "stdout",
     "output_type": "stream",
     "text": [
      "Частная производная по х: 6*x**2 + 2*y + 2*z\n",
      "Частная производная по y: 2*x + 2*y + 2\n",
      "Частная производная по z: 2*x + 2*z\n",
      "Точки экстремума: [(-1/3, -2/3, 1/3), (1, -2, -1)]\n",
      "Производная dxdx: 12*x\n",
      "Производная dydy: 2\n",
      "Производная dzdz: 2\n",
      "Производная dxdy: 2\n",
      "Производная dxdz: 2\n",
      "Производная dxdx: 0\n"
     ]
    }
   ],
   "execution_count": 65
  },
  {
   "metadata": {
    "ExecuteTime": {
     "end_time": "2024-12-14T22:14:31.300576Z",
     "start_time": "2024-12-14T22:14:31.288275Z"
    }
   },
   "cell_type": "code",
   "source": [
    "# Определяем функцию, возвращающую матрицу Гессе для исходной функции\n",
    "# Так как в производных второго порядка осталась только переменная х, \n",
    "# ее значение будет единственным аргументом функции\n",
    "def hesse(x_val):\n",
    "   return np.array([\n",
    "      [12 * x_val, 2, 2],\n",
    "      [2, 2, 0],\n",
    "      [2, 0, 2]\n",
    "   ], dtype=float)\n",
    "\n",
    "# Проверяем найденные точки экстремумов\n",
    "for point in points:\n",
    "    # Значение переменной х - это первое число в кортеже\n",
    "    x_val = point[0]\n",
    "    # Рассчитываем матрицу Гессе для этого значения х\n",
    "    Hesse = hesse(x_val)\n",
    "    # Рассчитываем определитель матрицы Гессе\n",
    "    Hesse_det = np.linalg.det(Hesse)\n",
    "    # Находим собственные числа\n",
    "    eig = np.linalg.eigvals(Hesse)\n",
    "    \n",
    "    # На основании знака определителя и собственных чисел, определяем тип экстремума\n",
    "    if Hesse_det > 0 and eig.all() > 0:\n",
    "        print(\"Минимум в точке\", point)\n",
    "    elif Hesse_det > 0 and eig.all() < 0:\n",
    "        print(\"Максимум в точке\", point)\n",
    "    elif Hesse_det < 0:\n",
    "        print(\"Седловая точка в точке\", point)\n",
    "    else:\n",
    "        print(\"Точка\", point, \"не является точкой экстремума\")"
   ],
   "id": "25cf36641c863375",
   "outputs": [
    {
     "name": "stdout",
     "output_type": "stream",
     "text": [
      "Седловая точка в точке (-1/3, -2/3, 1/3)\n",
      "Минимум в точке (1, -2, -1)\n"
     ]
    }
   ],
   "execution_count": 66
  },
  {
   "cell_type": "markdown",
   "id": "b38584b7-0da5-4858-9422-ff5bc2b3854f",
   "metadata": {
    "id": "b38584b7-0da5-4858-9422-ff5bc2b3854f"
   },
   "source": [
    "**Задача 2** (25 баллов)\n",
    "\n",
    "Найдите условные экстремумы функции:"
   ]
  },
  {
   "cell_type": "markdown",
   "id": "b36ed820-965b-484d-baab-b2cafebe7479",
   "metadata": {
    "id": "b36ed820-965b-484d-baab-b2cafebe7479"
   },
   "source": [
    "$$\n",
    "f(x, y)=4 x+8 y, y^2-2 x y+5=0\n",
    "$$"
   ]
  },
  {
   "cell_type": "markdown",
   "id": "2ce1c6f1-d126-4368-a63e-2bbbefffd542",
   "metadata": {
    "id": "2ce1c6f1-d126-4368-a63e-2bbbefffd542"
   },
   "source": [
    "Вычислите результат самостоятельно (вручную) и с помощью Python. Сравните результаты."
   ]
  },
  {
   "metadata": {},
   "cell_type": "markdown",
   "source": [
    "Решение вручную.\n",
    "\n",
    "Объединяем исходную функцию и функцию ограничений в Функцию Лагранжа\n",
    "\n",
    "$ L(x,y,lambda) = (4x + 8y) + lambda*(y^2 - 2xy + 5) $\n",
    "\n",
    "Находим частные производные\n",
    "\n",
    "$ L_dx = 4 - 2*lambda*y $\n",
    "\n",
    "$ L_dy = 8 + lambda*(2*y - 2*x) $\n",
    "\n",
    "$ L_dlambdа = y^2 - 2*x*y + 5 $\n",
    "\n",
    "Приравняв функции частных производных к 0, получаем систему из 3-х уравнений:\n",
    "\n",
    "1) $ 4-2*lambda*y = 0 $\n",
    "\n",
    "2) $ 8+lambda*(2*y - 2*x) = 0 $\n",
    "\n",
    "3) $ y^2-2*x*y+5 = 0 $\n",
    "\n",
    "Выделим из уравнения 1 переменную lambda:\n",
    "\n",
    "$ -2*lambda*y = -4 $\n",
    "\n",
    "$ lambda = 2/y $\n",
    "\n",
    "Подставим это значение в уравнение 2:\n",
    "\n",
    "$ 8 + 2/y * (2*y - 2*x) = 0 $\n",
    "\n",
    "$ 8 + 2/y * 2*y - 2/y * 2 * x = 0 $\n",
    "\n",
    "$ 8 + 4 - 4*x/y = 0 $\n",
    "\n",
    "$ x/y = 3 $\n",
    "\n",
    "$ x = 3 * y $\n",
    "\n",
    "Подставим это значение в уравнение 3:\n",
    "\n",
    "$ y^2-2*3*y*y+5 = 0 $\n",
    "\n",
    "$ -5*y^2+5 = 0 $\n",
    "\n",
    "$ y^2 = 1 $\n",
    "\n",
    "$ y_1 = 1,  y_2 = -1 $\n",
    "\n",
    "Находим соответствующие значения х:\n",
    "\n",
    "$ x_1 = 3,  x_2 = -3 $\n",
    "\n",
    "Таким образом условными экстремумами являются точки (3, 1) и (-3, -1)"
   ],
   "id": "2932e6e8a8416ad1"
  },
  {
   "cell_type": "code",
   "id": "818929f6-c478-49ad-997e-536d3c4f7f33",
   "metadata": {
    "id": "818929f6-c478-49ad-997e-536d3c4f7f33",
    "ExecuteTime": {
     "end_time": "2024-12-14T22:14:31.452464Z",
     "start_time": "2024-12-14T22:14:31.425521Z"
    }
   },
   "source": [
    "# Программное решение\n",
    "# Обозначим переменные\n",
    "x,y,l = sp.symbols('x, y, l')\n",
    "# Введем функцию\n",
    "f = 4*x + 8*y\n",
    "# Введем функцию ограничений\n",
    "f_c = y**2 - 2*x*y + 5\n",
    "# Составим функцию Лагранжа\n",
    "L = f + l*f_c\n",
    "\n",
    "# Находим первые частные производные по трем переменным\n",
    "L_dx = L.diff(x)\n",
    "L_dy = L.diff(y)\n",
    "L_dl = L.diff(l)\n",
    "\n",
    "# Приравниваем функции частных производных к 0 и решаем как систему уравнений \n",
    "points = sp.solve([L_dx, L_dy, L_dl], [x, y, l])\n",
    "print(f'Точки условного экстремума: ({points[0][0]},{points[0][1]}) и ({points[1][0]},{points[1][1]})')"
   ],
   "outputs": [
    {
     "name": "stdout",
     "output_type": "stream",
     "text": [
      "Точки условного экстремума: (-3,-1) и (3,1)\n"
     ]
    }
   ],
   "execution_count": 67
  },
  {
   "metadata": {},
   "cell_type": "markdown",
   "source": "Таким образом мы видим, что решения вручную и программно дали одинаковый результат.",
   "id": "a1b9174282d84ac"
  },
  {
   "cell_type": "markdown",
   "id": "818083c3-7318-4669-bb15-5a8a48ef543d",
   "metadata": {
    "id": "818083c3-7318-4669-bb15-5a8a48ef543d"
   },
   "source": [
    "**Задача 3** (30 баллов)\n",
    "\n",
    "Вам предложены данные с информацией о успеваемости студентов:\n",
    "\n",
    "Независимые переменные:\n",
    "* Hours Studied: Общее количество часов, потраченных на учебу каждым студентом.\n",
    "* Previous Scores: Баллы, полученные студентами на предыдущих экзаменах.\n",
    "* Sleep Hours: Среднее количество часов сна студента в сутки.\n",
    "* Sample Question Papers Practiced: Количество пробных экзаменационных работ, с которыми студент занимался.\n",
    "  \n",
    "Целевая переменная:\n",
    "* Performance Index: Показатель общей успеваемости каждого студента. Индекс успеваемости отражает академическую успеваемость студента и округляется до ближайшего целого числа. Индекс варьируется от 10 до 100, при этом более высокие значения свидетельствуют о более высокой успеваемости."
   ]
  },
  {
   "cell_type": "markdown",
   "id": "f65c2300-43b2-4c43-b762-1e20d29ae889",
   "metadata": {
    "id": "f65c2300-43b2-4c43-b762-1e20d29ae889"
   },
   "source": [
    "**Решите задачу линейной регрессии, реализовав градиентный спуск самостоятельно, не используя готовое решение из какой-либо библиотеки.**"
   ]
  },
  {
   "metadata": {},
   "cell_type": "markdown",
   "source": [
    "# Формализация задачи линейной регрессии\n",
    "\n",
    "Нам нужно найти такой вектор параметров, который позволит с минимальной ошибкой предсказывать целевой показатель по известным признакам.\n"
   ],
   "id": "b63a41dae17ccca4"
  },
  {
   "cell_type": "code",
   "id": "3900c065-fb9b-45bf-bc1f-a9c9d0ab5c20",
   "metadata": {
    "id": "3900c065-fb9b-45bf-bc1f-a9c9d0ab5c20",
    "ExecuteTime": {
     "end_time": "2024-12-14T22:14:31.766581Z",
     "start_time": "2024-12-14T22:14:31.629414Z"
    }
   },
   "source": [
    "# чтение данных из файла в датафрейм\n",
    "data = pd.read_csv('data/Student_Performance.csv')\n",
    "# удаляем не указанный в задании столбец\n",
    "data.drop('Extracurricular Activities', axis=1, inplace=True)\n",
    "# инициализируем переменную с количеством наблюдений\n",
    "n = data.shape[0]\n",
    "# проанализируем датафрейм\n",
    "display(data.describe())\n",
    "display(data.info())"
   ],
   "outputs": [
    {
     "data": {
      "text/plain": [
       "       Hours Studied  Previous Scores   Sleep Hours  \\\n",
       "count   10000.000000     10000.000000  10000.000000   \n",
       "mean        4.992900        69.445700      6.530600   \n",
       "std         2.589309        17.343152      1.695863   \n",
       "min         1.000000        40.000000      4.000000   \n",
       "25%         3.000000        54.000000      5.000000   \n",
       "50%         5.000000        69.000000      7.000000   \n",
       "75%         7.000000        85.000000      8.000000   \n",
       "max         9.000000        99.000000      9.000000   \n",
       "\n",
       "       Sample Question Papers Practiced  Performance Index  \n",
       "count                      10000.000000       10000.000000  \n",
       "mean                           4.583300          55.224800  \n",
       "std                            2.867348          19.212558  \n",
       "min                            0.000000          10.000000  \n",
       "25%                            2.000000          40.000000  \n",
       "50%                            5.000000          55.000000  \n",
       "75%                            7.000000          71.000000  \n",
       "max                            9.000000         100.000000  "
      ],
      "text/html": [
       "<div>\n",
       "<style scoped>\n",
       "    .dataframe tbody tr th:only-of-type {\n",
       "        vertical-align: middle;\n",
       "    }\n",
       "\n",
       "    .dataframe tbody tr th {\n",
       "        vertical-align: top;\n",
       "    }\n",
       "\n",
       "    .dataframe thead th {\n",
       "        text-align: right;\n",
       "    }\n",
       "</style>\n",
       "<table border=\"1\" class=\"dataframe\">\n",
       "  <thead>\n",
       "    <tr style=\"text-align: right;\">\n",
       "      <th></th>\n",
       "      <th>Hours Studied</th>\n",
       "      <th>Previous Scores</th>\n",
       "      <th>Sleep Hours</th>\n",
       "      <th>Sample Question Papers Practiced</th>\n",
       "      <th>Performance Index</th>\n",
       "    </tr>\n",
       "  </thead>\n",
       "  <tbody>\n",
       "    <tr>\n",
       "      <th>count</th>\n",
       "      <td>10000.000000</td>\n",
       "      <td>10000.000000</td>\n",
       "      <td>10000.000000</td>\n",
       "      <td>10000.000000</td>\n",
       "      <td>10000.000000</td>\n",
       "    </tr>\n",
       "    <tr>\n",
       "      <th>mean</th>\n",
       "      <td>4.992900</td>\n",
       "      <td>69.445700</td>\n",
       "      <td>6.530600</td>\n",
       "      <td>4.583300</td>\n",
       "      <td>55.224800</td>\n",
       "    </tr>\n",
       "    <tr>\n",
       "      <th>std</th>\n",
       "      <td>2.589309</td>\n",
       "      <td>17.343152</td>\n",
       "      <td>1.695863</td>\n",
       "      <td>2.867348</td>\n",
       "      <td>19.212558</td>\n",
       "    </tr>\n",
       "    <tr>\n",
       "      <th>min</th>\n",
       "      <td>1.000000</td>\n",
       "      <td>40.000000</td>\n",
       "      <td>4.000000</td>\n",
       "      <td>0.000000</td>\n",
       "      <td>10.000000</td>\n",
       "    </tr>\n",
       "    <tr>\n",
       "      <th>25%</th>\n",
       "      <td>3.000000</td>\n",
       "      <td>54.000000</td>\n",
       "      <td>5.000000</td>\n",
       "      <td>2.000000</td>\n",
       "      <td>40.000000</td>\n",
       "    </tr>\n",
       "    <tr>\n",
       "      <th>50%</th>\n",
       "      <td>5.000000</td>\n",
       "      <td>69.000000</td>\n",
       "      <td>7.000000</td>\n",
       "      <td>5.000000</td>\n",
       "      <td>55.000000</td>\n",
       "    </tr>\n",
       "    <tr>\n",
       "      <th>75%</th>\n",
       "      <td>7.000000</td>\n",
       "      <td>85.000000</td>\n",
       "      <td>8.000000</td>\n",
       "      <td>7.000000</td>\n",
       "      <td>71.000000</td>\n",
       "    </tr>\n",
       "    <tr>\n",
       "      <th>max</th>\n",
       "      <td>9.000000</td>\n",
       "      <td>99.000000</td>\n",
       "      <td>9.000000</td>\n",
       "      <td>9.000000</td>\n",
       "      <td>100.000000</td>\n",
       "    </tr>\n",
       "  </tbody>\n",
       "</table>\n",
       "</div>"
      ]
     },
     "metadata": {},
     "output_type": "display_data"
    },
    {
     "name": "stdout",
     "output_type": "stream",
     "text": [
      "<class 'pandas.core.frame.DataFrame'>\n",
      "RangeIndex: 10000 entries, 0 to 9999\n",
      "Data columns (total 5 columns):\n",
      " #   Column                            Non-Null Count  Dtype  \n",
      "---  ------                            --------------  -----  \n",
      " 0   Hours Studied                     10000 non-null  int64  \n",
      " 1   Previous Scores                   10000 non-null  int64  \n",
      " 2   Sleep Hours                       10000 non-null  int64  \n",
      " 3   Sample Question Papers Practiced  10000 non-null  int64  \n",
      " 4   Performance Index                 10000 non-null  float64\n",
      "dtypes: float64(1), int64(4)\n",
      "memory usage: 390.8 KB\n"
     ]
    },
    {
     "data": {
      "text/plain": [
       "None"
      ]
     },
     "metadata": {},
     "output_type": "display_data"
    }
   ],
   "execution_count": 68
  },
  {
   "metadata": {},
   "cell_type": "markdown",
   "source": [
    "Можем сделать следующие выводы:\n",
    "1) В данных отсутствуют пропуски\n",
    "2) Один из признаков значительно отличается по размерности от других\n",
    "3) Все признаки числовые"
   ],
   "id": "292e2e9a2b853cb6"
  },
  {
   "metadata": {
    "ExecuteTime": {
     "end_time": "2024-12-14T22:14:57.065116Z",
     "start_time": "2024-12-14T22:14:32.063243Z"
    }
   },
   "cell_type": "code",
   "source": [
    "# инициализируем переменные с признаками и целевым вектором\n",
    "X = data[['Hours Studied', 'Previous Scores', 'Sleep Hours', 'Sample Question Papers Practiced']].values.reshape(n,4)\n",
    "y = data['Performance Index'].values.reshape(n,1)\n",
    "\n",
    "# стандартизируем признаки\n",
    "scaler = StandardScaler()\n",
    "X = scaler.fit_transform(X)\n",
    "# добавляем интерцепт\n",
    "X = np.append(np.ones((n,1)), X, axis = 1)\n",
    "# инициализируем начальный вектор коэффициентов нолями\n",
    "w = np.zeros((5,1))\n",
    "# реализуем функцию потерь\n",
    "def cost_function(X, y , par):\n",
    "    y_pred = X@par\n",
    "    error = (y_pred - y)**2\n",
    "    cost = 1/(n)*np.sum(error)\n",
    "    return cost\n",
    "# реализуем функцию градиентного спуска\n",
    "def grad_d(X,y, par, alpha, iterations, eps=0.001):\n",
    "    costs = []\n",
    "    for i in range(iterations):\n",
    "        y_pred = X@par\n",
    "        der = np.dot (X.transpose(), (y_pred - y))/ n\n",
    "        par -= alpha * der\n",
    "        costs.append(cost_function(X,y, par))\n",
    "        if np.linalg.norm(der) < eps:\n",
    "            break\n",
    "    return par, costs\n",
    "# вычисляем коэффициенты регрессии\n",
    "w, costs = grad_d(X,y, w, 0.00005, 500000)\n",
    "print(w.round(3))"
   ],
   "id": "723f95b1ebeb4ab1",
   "outputs": [
    {
     "name": "stdout",
     "output_type": "stream",
     "text": [
      "[[55.224]\n",
      " [ 7.388]\n",
      " [17.664]\n",
      " [ 0.808]\n",
      " [ 0.56 ]]\n"
     ]
    }
   ],
   "execution_count": 69
  },
  {
   "metadata": {
    "ExecuteTime": {
     "end_time": "2024-12-14T22:14:57.161438Z",
     "start_time": "2024-12-14T22:14:57.154212Z"
    }
   },
   "cell_type": "code",
   "source": [
    "# считаем предсказанные параметры с этими коэффициентами\n",
    "y_pred = X@w\n",
    "# считаем ошибку предсказания\n",
    "mape = np.mean(abs(y-y_pred) / y)\n"
   ],
   "id": "fab263a14257f730",
   "outputs": [],
   "execution_count": 70
  },
  {
   "metadata": {},
   "cell_type": "markdown",
   "source": "# Реализация с помощью библиотеки sklearn",
   "id": "94be3f87da605509"
  },
  {
   "metadata": {
    "ExecuteTime": {
     "end_time": "2024-12-14T22:14:57.249536Z",
     "start_time": "2024-12-14T22:14:57.232813Z"
    }
   },
   "cell_type": "code",
   "source": [
    "model = LinearRegression()\n",
    "model.fit(X,y)\n",
    "y_pred_skl = model.predict(X)\n",
    "mape_skl = np.mean(abs(y-y_pred) / y)"
   ],
   "id": "69bd1c3ccb37a4b1",
   "outputs": [],
   "execution_count": 71
  },
  {
   "metadata": {
    "ExecuteTime": {
     "end_time": "2024-12-14T22:14:57.414929Z",
     "start_time": "2024-12-14T22:14:57.386475Z"
    }
   },
   "cell_type": "code",
   "source": [
    "# создадим справочник из данных полученных с помощью ручной реализации и с помощью библиотеки sklearn\n",
    "dict = {\n",
    "    'Параметр': ['Коэффициент 0', 'Коэффициент 1', 'Коэффициент 2', 'Коэффициент 3', 'Коэффициент 4', 'MAPE'],\n",
    "    'Ручная реализация': [\n",
    "        np.round(w[0], 3), \n",
    "        np.round(w[1], 3), \n",
    "        np.round(w[2], 3), \n",
    "        np.round(w[3], 3), \n",
    "        np.round(w[4], 3), \n",
    "        np.round(mape, 3)\n",
    "    ],\n",
    "    'sklearn': [\n",
    "        np.round(model.intercept_, 3), \n",
    "        np.round(model.coef_[0,1], 3), \n",
    "        np.round(model.coef_[0,2], 3), \n",
    "        np.round(model.coef_[0,3], 3), \n",
    "        np.round(model.coef_[0,4], 3), \n",
    "        np.round(mape_skl, 3)\n",
    "    ]\n",
    "}\n",
    "# на основе справочника создадим датафрейм\n",
    "df = pd.DataFrame(dict)\n",
    "df"
   ],
   "id": "1e58249c36d37233",
   "outputs": [
    {
     "data": {
      "text/plain": [
       "        Параметр Ручная реализация   sklearn\n",
       "0  Коэффициент 0          [55.224]  [55.225]\n",
       "1  Коэффициент 1           [7.388]     7.388\n",
       "2  Коэффициент 2          [17.664]    17.665\n",
       "3  Коэффициент 3           [0.808]     0.808\n",
       "4  Коэффициент 4            [0.56]      0.56\n",
       "5           MAPE             0.035     0.035"
      ],
      "text/html": [
       "<div>\n",
       "<style scoped>\n",
       "    .dataframe tbody tr th:only-of-type {\n",
       "        vertical-align: middle;\n",
       "    }\n",
       "\n",
       "    .dataframe tbody tr th {\n",
       "        vertical-align: top;\n",
       "    }\n",
       "\n",
       "    .dataframe thead th {\n",
       "        text-align: right;\n",
       "    }\n",
       "</style>\n",
       "<table border=\"1\" class=\"dataframe\">\n",
       "  <thead>\n",
       "    <tr style=\"text-align: right;\">\n",
       "      <th></th>\n",
       "      <th>Параметр</th>\n",
       "      <th>Ручная реализация</th>\n",
       "      <th>sklearn</th>\n",
       "    </tr>\n",
       "  </thead>\n",
       "  <tbody>\n",
       "    <tr>\n",
       "      <th>0</th>\n",
       "      <td>Коэффициент 0</td>\n",
       "      <td>[55.224]</td>\n",
       "      <td>[55.225]</td>\n",
       "    </tr>\n",
       "    <tr>\n",
       "      <th>1</th>\n",
       "      <td>Коэффициент 1</td>\n",
       "      <td>[7.388]</td>\n",
       "      <td>7.388</td>\n",
       "    </tr>\n",
       "    <tr>\n",
       "      <th>2</th>\n",
       "      <td>Коэффициент 2</td>\n",
       "      <td>[17.664]</td>\n",
       "      <td>17.665</td>\n",
       "    </tr>\n",
       "    <tr>\n",
       "      <th>3</th>\n",
       "      <td>Коэффициент 3</td>\n",
       "      <td>[0.808]</td>\n",
       "      <td>0.808</td>\n",
       "    </tr>\n",
       "    <tr>\n",
       "      <th>4</th>\n",
       "      <td>Коэффициент 4</td>\n",
       "      <td>[0.56]</td>\n",
       "      <td>0.56</td>\n",
       "    </tr>\n",
       "    <tr>\n",
       "      <th>5</th>\n",
       "      <td>MAPE</td>\n",
       "      <td>0.035</td>\n",
       "      <td>0.035</td>\n",
       "    </tr>\n",
       "  </tbody>\n",
       "</table>\n",
       "</div>"
      ]
     },
     "execution_count": 72,
     "metadata": {},
     "output_type": "execute_result"
    }
   ],
   "execution_count": 72
  },
  {
   "metadata": {},
   "cell_type": "markdown",
   "source": [
    "Из таблицы видно, что полученные двумя способами коэффициенты практически идентичны.\n",
    "Также обратим внимание на низкую ошибку предсказания - MAPE около 3,5%, что говорит о высоком качестве модели."
   ],
   "id": "eb3816202200bf5c"
  }
 ],
 "metadata": {
  "kernelspec": {
   "display_name": "Python 3 (ipykernel)",
   "language": "python",
   "name": "python3"
  },
  "language_info": {
   "codemirror_mode": {
    "name": "ipython",
    "version": 3
   },
   "file_extension": ".py",
   "mimetype": "text/x-python",
   "name": "python",
   "nbconvert_exporter": "python",
   "pygments_lexer": "ipython3",
   "version": "3.11.5"
  },
  "colab": {
   "provenance": []
  }
 },
 "nbformat": 4,
 "nbformat_minor": 5
}
