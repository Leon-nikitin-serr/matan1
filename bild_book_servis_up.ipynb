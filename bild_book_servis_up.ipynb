{
 "cells": [
  {
   "cell_type": "code",
   "execution_count": 1,
   "id": "ba41e2db-8c66-42ff-bf71-689ce27e8bbd",
   "metadata": {},
   "outputs": [
    {
     "name": "stdout",
     "output_type": "stream",
     "text": [
      "   book_id  user_id  rating\n",
      "0        1      314       5\n",
      "1        1      439       3\n",
      "2        1      588       5\n",
      "3        1     1169       4\n",
      "4        1     1185       4\n",
      "<class 'pandas.core.frame.DataFrame'>\n",
      "RangeIndex: 10000 entries, 0 to 9999\n",
      "Data columns (total 23 columns):\n",
      " #   Column                     Non-Null Count  Dtype  \n",
      "---  ------                     --------------  -----  \n",
      " 0   id                         10000 non-null  int64  \n",
      " 1   book_id                    10000 non-null  int64  \n",
      " 2   best_book_id               10000 non-null  int64  \n",
      " 3   work_id                    10000 non-null  int64  \n",
      " 4   books_count                10000 non-null  int64  \n",
      " 5   isbn                       9300 non-null   object \n",
      " 6   isbn13                     9415 non-null   float64\n",
      " 7   authors                    10000 non-null  object \n",
      " 8   original_publication_year  9979 non-null   float64\n",
      " 9   original_title             9415 non-null   object \n",
      " 10  title                      10000 non-null  object \n",
      " 11  language_code              8916 non-null   object \n",
      " 12  average_rating             10000 non-null  float64\n",
      " 13  ratings_count              10000 non-null  int64  \n",
      " 14  work_ratings_count         10000 non-null  int64  \n",
      " 15  work_text_reviews_count    10000 non-null  int64  \n",
      " 16  ratings_1                  10000 non-null  int64  \n",
      " 17  ratings_2                  10000 non-null  int64  \n",
      " 18  ratings_3                  10000 non-null  int64  \n",
      " 19  ratings_4                  10000 non-null  int64  \n",
      " 20  ratings_5                  10000 non-null  int64  \n",
      " 21  image_url                  10000 non-null  object \n",
      " 22  small_image_url            10000 non-null  object \n",
      "dtypes: float64(3), int64(13), object(7)\n",
      "memory usage: 1.8+ MB\n",
      "None\n",
      "<class 'pandas.core.frame.DataFrame'>\n",
      "RangeIndex: 34252 entries, 0 to 34251\n",
      "Data columns (total 2 columns):\n",
      " #   Column    Non-Null Count  Dtype \n",
      "---  ------    --------------  ----- \n",
      " 0   tag_id    34252 non-null  int64 \n",
      " 1   tag_name  34252 non-null  object\n",
      "dtypes: int64(1), object(1)\n",
      "memory usage: 535.3+ KB\n",
      "None\n",
      "<class 'pandas.core.frame.DataFrame'>\n",
      "RangeIndex: 999912 entries, 0 to 999911\n",
      "Data columns (total 3 columns):\n",
      " #   Column             Non-Null Count   Dtype\n",
      "---  ------             --------------   -----\n",
      " 0   goodreads_book_id  999912 non-null  int64\n",
      " 1   tag_id             999912 non-null  int64\n",
      " 2   count              999912 non-null  int64\n",
      "dtypes: int64(3)\n",
      "memory usage: 22.9 MB\n",
      "None\n"
     ]
    }
   ],
   "source": [
    "import pandas as pd\n",
    "import matplotlib.pyplot as plt\n",
    "import seaborn as sns\n",
    "\n",
    "# Загружаем данные\n",
    "ratings = pd.read_csv('ratings.csv')\n",
    "books = pd.read_csv('books.csv')\n",
    "tags = pd.read_csv('tags.csv')\n",
    "book_tags = pd.read_csv('book_tags.csv')\n",
    "\n",
    "# Быстрый обзор\n",
    "print(ratings.head())\n",
    "print(books.info())\n",
    "print(tags.info())\n",
    "print(book_tags.info())"
   ]
  },
  {
   "cell_type": "code",
   "execution_count": 2,
   "id": "ca336926-3d6f-4ce0-8078-50d5d6346654",
   "metadata": {},
   "outputs": [
    {
     "data": {
      "text/html": [
       "<div>\n",
       "<style scoped>\n",
       "    .dataframe tbody tr th:only-of-type {\n",
       "        vertical-align: middle;\n",
       "    }\n",
       "\n",
       "    .dataframe tbody tr th {\n",
       "        vertical-align: top;\n",
       "    }\n",
       "\n",
       "    .dataframe thead th {\n",
       "        text-align: right;\n",
       "    }\n",
       "</style>\n",
       "<table border=\"1\" class=\"dataframe\">\n",
       "  <thead>\n",
       "    <tr style=\"text-align: right;\">\n",
       "      <th></th>\n",
       "      <th>id</th>\n",
       "      <th>book_id</th>\n",
       "      <th>best_book_id</th>\n",
       "      <th>work_id</th>\n",
       "      <th>books_count</th>\n",
       "      <th>isbn</th>\n",
       "      <th>isbn13</th>\n",
       "      <th>authors</th>\n",
       "      <th>original_publication_year</th>\n",
       "      <th>original_title</th>\n",
       "      <th>...</th>\n",
       "      <th>ratings_count</th>\n",
       "      <th>work_ratings_count</th>\n",
       "      <th>work_text_reviews_count</th>\n",
       "      <th>ratings_1</th>\n",
       "      <th>ratings_2</th>\n",
       "      <th>ratings_3</th>\n",
       "      <th>ratings_4</th>\n",
       "      <th>ratings_5</th>\n",
       "      <th>image_url</th>\n",
       "      <th>small_image_url</th>\n",
       "    </tr>\n",
       "  </thead>\n",
       "  <tbody>\n",
       "    <tr>\n",
       "      <th>0</th>\n",
       "      <td>1</td>\n",
       "      <td>2767052</td>\n",
       "      <td>2767052</td>\n",
       "      <td>2792775</td>\n",
       "      <td>272</td>\n",
       "      <td>439023483</td>\n",
       "      <td>9.780439e+12</td>\n",
       "      <td>Suzanne Collins</td>\n",
       "      <td>2008.0</td>\n",
       "      <td>The Hunger Games</td>\n",
       "      <td>...</td>\n",
       "      <td>4780653</td>\n",
       "      <td>4942365</td>\n",
       "      <td>155254</td>\n",
       "      <td>66715</td>\n",
       "      <td>127936</td>\n",
       "      <td>560092</td>\n",
       "      <td>1481305</td>\n",
       "      <td>2706317</td>\n",
       "      <td>https://images.gr-assets.com/books/1447303603m...</td>\n",
       "      <td>https://images.gr-assets.com/books/1447303603s...</td>\n",
       "    </tr>\n",
       "    <tr>\n",
       "      <th>1</th>\n",
       "      <td>2</td>\n",
       "      <td>3</td>\n",
       "      <td>3</td>\n",
       "      <td>4640799</td>\n",
       "      <td>491</td>\n",
       "      <td>439554934</td>\n",
       "      <td>9.780440e+12</td>\n",
       "      <td>J.K. Rowling, Mary GrandPré</td>\n",
       "      <td>1997.0</td>\n",
       "      <td>Harry Potter and the Philosopher's Stone</td>\n",
       "      <td>...</td>\n",
       "      <td>4602479</td>\n",
       "      <td>4800065</td>\n",
       "      <td>75867</td>\n",
       "      <td>75504</td>\n",
       "      <td>101676</td>\n",
       "      <td>455024</td>\n",
       "      <td>1156318</td>\n",
       "      <td>3011543</td>\n",
       "      <td>https://images.gr-assets.com/books/1474154022m...</td>\n",
       "      <td>https://images.gr-assets.com/books/1474154022s...</td>\n",
       "    </tr>\n",
       "    <tr>\n",
       "      <th>2</th>\n",
       "      <td>3</td>\n",
       "      <td>41865</td>\n",
       "      <td>41865</td>\n",
       "      <td>3212258</td>\n",
       "      <td>226</td>\n",
       "      <td>316015849</td>\n",
       "      <td>9.780316e+12</td>\n",
       "      <td>Stephenie Meyer</td>\n",
       "      <td>2005.0</td>\n",
       "      <td>Twilight</td>\n",
       "      <td>...</td>\n",
       "      <td>3866839</td>\n",
       "      <td>3916824</td>\n",
       "      <td>95009</td>\n",
       "      <td>456191</td>\n",
       "      <td>436802</td>\n",
       "      <td>793319</td>\n",
       "      <td>875073</td>\n",
       "      <td>1355439</td>\n",
       "      <td>https://images.gr-assets.com/books/1361039443m...</td>\n",
       "      <td>https://images.gr-assets.com/books/1361039443s...</td>\n",
       "    </tr>\n",
       "    <tr>\n",
       "      <th>3</th>\n",
       "      <td>4</td>\n",
       "      <td>2657</td>\n",
       "      <td>2657</td>\n",
       "      <td>3275794</td>\n",
       "      <td>487</td>\n",
       "      <td>61120081</td>\n",
       "      <td>9.780061e+12</td>\n",
       "      <td>Harper Lee</td>\n",
       "      <td>1960.0</td>\n",
       "      <td>To Kill a Mockingbird</td>\n",
       "      <td>...</td>\n",
       "      <td>3198671</td>\n",
       "      <td>3340896</td>\n",
       "      <td>72586</td>\n",
       "      <td>60427</td>\n",
       "      <td>117415</td>\n",
       "      <td>446835</td>\n",
       "      <td>1001952</td>\n",
       "      <td>1714267</td>\n",
       "      <td>https://images.gr-assets.com/books/1361975680m...</td>\n",
       "      <td>https://images.gr-assets.com/books/1361975680s...</td>\n",
       "    </tr>\n",
       "    <tr>\n",
       "      <th>4</th>\n",
       "      <td>5</td>\n",
       "      <td>4671</td>\n",
       "      <td>4671</td>\n",
       "      <td>245494</td>\n",
       "      <td>1356</td>\n",
       "      <td>743273567</td>\n",
       "      <td>9.780743e+12</td>\n",
       "      <td>F. Scott Fitzgerald</td>\n",
       "      <td>1925.0</td>\n",
       "      <td>The Great Gatsby</td>\n",
       "      <td>...</td>\n",
       "      <td>2683664</td>\n",
       "      <td>2773745</td>\n",
       "      <td>51992</td>\n",
       "      <td>86236</td>\n",
       "      <td>197621</td>\n",
       "      <td>606158</td>\n",
       "      <td>936012</td>\n",
       "      <td>947718</td>\n",
       "      <td>https://images.gr-assets.com/books/1490528560m...</td>\n",
       "      <td>https://images.gr-assets.com/books/1490528560s...</td>\n",
       "    </tr>\n",
       "  </tbody>\n",
       "</table>\n",
       "<p>5 rows × 23 columns</p>\n",
       "</div>"
      ],
      "text/plain": [
       "   id  book_id  best_book_id  work_id  books_count       isbn        isbn13  \\\n",
       "0   1  2767052       2767052  2792775          272  439023483  9.780439e+12   \n",
       "1   2        3             3  4640799          491  439554934  9.780440e+12   \n",
       "2   3    41865         41865  3212258          226  316015849  9.780316e+12   \n",
       "3   4     2657          2657  3275794          487   61120081  9.780061e+12   \n",
       "4   5     4671          4671   245494         1356  743273567  9.780743e+12   \n",
       "\n",
       "                       authors  original_publication_year  \\\n",
       "0              Suzanne Collins                     2008.0   \n",
       "1  J.K. Rowling, Mary GrandPré                     1997.0   \n",
       "2              Stephenie Meyer                     2005.0   \n",
       "3                   Harper Lee                     1960.0   \n",
       "4          F. Scott Fitzgerald                     1925.0   \n",
       "\n",
       "                             original_title  ... ratings_count  \\\n",
       "0                          The Hunger Games  ...       4780653   \n",
       "1  Harry Potter and the Philosopher's Stone  ...       4602479   \n",
       "2                                  Twilight  ...       3866839   \n",
       "3                     To Kill a Mockingbird  ...       3198671   \n",
       "4                          The Great Gatsby  ...       2683664   \n",
       "\n",
       "  work_ratings_count  work_text_reviews_count  ratings_1  ratings_2  \\\n",
       "0            4942365                   155254      66715     127936   \n",
       "1            4800065                    75867      75504     101676   \n",
       "2            3916824                    95009     456191     436802   \n",
       "3            3340896                    72586      60427     117415   \n",
       "4            2773745                    51992      86236     197621   \n",
       "\n",
       "   ratings_3  ratings_4  ratings_5  \\\n",
       "0     560092    1481305    2706317   \n",
       "1     455024    1156318    3011543   \n",
       "2     793319     875073    1355439   \n",
       "3     446835    1001952    1714267   \n",
       "4     606158     936012     947718   \n",
       "\n",
       "                                           image_url  \\\n",
       "0  https://images.gr-assets.com/books/1447303603m...   \n",
       "1  https://images.gr-assets.com/books/1474154022m...   \n",
       "2  https://images.gr-assets.com/books/1361039443m...   \n",
       "3  https://images.gr-assets.com/books/1361975680m...   \n",
       "4  https://images.gr-assets.com/books/1490528560m...   \n",
       "\n",
       "                                     small_image_url  \n",
       "0  https://images.gr-assets.com/books/1447303603s...  \n",
       "1  https://images.gr-assets.com/books/1474154022s...  \n",
       "2  https://images.gr-assets.com/books/1361039443s...  \n",
       "3  https://images.gr-assets.com/books/1361975680s...  \n",
       "4  https://images.gr-assets.com/books/1490528560s...  \n",
       "\n",
       "[5 rows x 23 columns]"
      ]
     },
     "execution_count": 2,
     "metadata": {},
     "output_type": "execute_result"
    }
   ],
   "source": [
    "books.head()"
   ]
  },
  {
   "cell_type": "code",
   "execution_count": 3,
   "id": "4a6929c1-1593-4978-be19-84567eb83993",
   "metadata": {},
   "outputs": [
    {
     "data": {
      "image/png": "[encoded data removed]",
      "text/plain": [
       "<Figure size 640x480 with 1 Axes>"
      ]
     },
     "metadata": {},
     "output_type": "display_data"
    }
   ],
   "source": [
    "#Распределение оценок. Есть ли смещение в сторону высоких оценок?\n",
    "sns.histplot(ratings['rating'], bins=10, kde=False)\n",
    "plt.title(\"Распределение оценок пользователей\")\n",
    "plt.xlabel(\"Оценка\")\n",
    "plt.ylabel(\"Количество\")\n",
    "plt.show()\n"
   ]
  },
  {
   "cell_type": "markdown",
   "id": "bf856626-7368-4643-a992-b4b830f92195",
   "metadata": {},
   "source": [
    "Смещении в сторону высоких оценок:\n",
    "\n",
    "Пользователи чаще ставят хорошие оценки тем книгам, которые изначально им нравятся.\n",
    "\n",
    "Модель может переоценивать популярные книги и недооценивать менее известные."
   ]
  },
  {
   "cell_type": "code",
   "execution_count": 4,
   "id": "84c6a252-1740-4b18-b4d9-c59a28a6c949",
   "metadata": {},
   "outputs": [
    {
     "data": {
      "image/png": "[encoded data removed]",
      "text/plain": [
       "<Figure size 640x480 with 1 Axes>"
      ]
     },
     "metadata": {},
     "output_type": "display_data"
    },
    {
     "name": "stdout",
     "output_type": "stream",
     "text": [
      "count    53424.000000\n",
      "mean        18.376685\n",
      "std         26.268690\n",
      "min          2.000000\n",
      "25%          3.000000\n",
      "50%          8.000000\n",
      "75%         22.000000\n",
      "max        200.000000\n",
      "Name: book_id, dtype: float64\n"
     ]
    }
   ],
   "source": [
    "#понять, сколько оценок ставит один пользователь. Это поможет заметить проблему холодного старта.\n",
    "user_activity = ratings.groupby('user_id')['book_id'].count()\n",
    "\n",
    "sns.histplot(user_activity, bins=50)\n",
    "plt.title(\"Распределение количества оценок на пользователя\")\n",
    "plt.xlabel(\"Количество оценок\")\n",
    "plt.ylabel(\"Число пользователей\")\n",
    "plt.show()\n",
    "\n",
    "print(user_activity.describe())\n"
   ]
  },
  {
   "cell_type": "markdown",
   "id": "c221db99-a4cd-41d3-b5d1-dd07663d1aa4",
   "metadata": {},
   "source": [
    "Данные разреженные — много пользователей с минимальной историей.\n",
    "\n",
    "Проблема холодного старта: у новых или пассивных пользователей модель не сможет делать точные прогнозы."
   ]
  },
  {
   "cell_type": "code",
   "execution_count": 5,
   "id": "642ba6ba-aea8-461b-adc4-0c6bf4add1e7",
   "metadata": {},
   "outputs": [
    {
     "data": {
      "image/png": "[encoded data removed]",
      "text/plain": [
       "<Figure size 1000x600 with 1 Axes>"
      ]
     },
     "metadata": {},
     "output_type": "display_data"
    }
   ],
   "source": [
    "#Анализ тегов какие темы встречаются чаще всего.\n",
    "# Объединяем book_tags и tags\n",
    "book_tags_full = book_tags.merge(tags, on='tag_id', how='left')\n",
    "\n",
    "top_tags = (\n",
    "    book_tags_full.groupby('tag_name')['count']\n",
    "    .sum()\n",
    "    .sort_values(ascending=False)\n",
    "    .head(20)\n",
    ")\n",
    "\n",
    "plt.figure(figsize=(10,6))\n",
    "sns.barplot(y=top_tags.index, x=top_tags.values)\n",
    "plt.title(\"Топ-20 самых популярных тегов\")\n",
    "plt.xlabel(\"Частота использования\")\n",
    "plt.ylabel(\"Тег\")\n",
    "plt.show()"
   ]
  },
  {
   "cell_type": "markdown",
   "id": "0174b94c-73b0-4dd9-8e6d-b6c1f8929885",
   "metadata": {},
   "source": [
    "Смещение популярности — небольшой набор тегов получает основную долю внимания.\n",
    "\n",
    "множество редко встречающихся тегов с очень малым числом взаимодействий."
   ]
  },
  {
   "cell_type": "code",
   "execution_count": 6,
   "id": "2d04a9ea-c6c2-4c29-98de-a5bf9259a6ba",
   "metadata": {},
   "outputs": [
    {
     "name": "stdout",
     "output_type": "stream",
     "text": [
      "                  original_title  avg_rating  num_ratings\n",
      "0                            NaN    4.820225           89\n",
      "1                            NaN    4.780000          100\n",
      "2                            NaN    4.780000          100\n",
      "3     Still Life with Woodpecker    4.777778           99\n",
      "4                            NaN    4.774194           93\n",
      "...                          ...         ...          ...\n",
      "9985                         NaN    2.430000          100\n",
      "9986                         NaN    2.350515           97\n",
      "9987                         NaN    2.312500           64\n",
      "9988                         NaN    2.235294           85\n",
      "9989                         NaN    1.960000          100\n",
      "\n",
      "[9990 rows x 3 columns]\n"
     ]
    }
   ],
   "source": [
    "#Неперсонализированная модель (Baseline)\n",
    "#книги с наибольшим средним рейтингом, если у них достаточно оценок (чтобы отсеять случайные всплески)\n",
    "\n",
    "# Считаем средний рейтинг и количество оценок по каждой книге \n",
    "book_stats = ratings.groupby('book_id').agg(\n",
    "    avg_rating=('rating', 'mean'),\n",
    "    num_ratings=('rating', 'count')\n",
    ").reset_index()\n",
    "\n",
    "# === 3. Фильтруем: книги, у которых хотя бы 50 оценок ===\n",
    "popular_books = book_stats[book_stats['num_ratings'] >= 50]\n",
    "\n",
    "# === 4. Сортируем по среднему рейтингу (в порядке убывания) ===\n",
    "top_books = popular_books.sort_values(['avg_rating','num_ratings'], ascending=[False, False])\n",
    "\n",
    "# === 5. Присоединяем названия книг из books.csv ===\n",
    "top_books = top_books.merge(\n",
    "    books[['book_id', 'original_title']],\n",
    "    on='book_id',\n",
    "    how='left'\n",
    ")\n",
    "\n",
    "# === 6. Выводим итоговый список самых популярных книг ===\n",
    "print(top_books[['original_title', 'avg_rating', 'num_ratings']])\n"
   ]
  },
  {
   "cell_type": "code",
   "execution_count": 7,
   "id": "39621e3f-2e07-4c74-a16f-c6b0af327f2d",
   "metadata": {},
   "outputs": [
    {
     "data": {
      "text/plain": [
       "585"
      ]
     },
     "execution_count": 7,
     "metadata": {},
     "output_type": "execute_result"
    }
   ],
   "source": [
    "books['original_title'].isna().sum()\n"
   ]
  },
  {
   "cell_type": "code",
   "execution_count": 8,
   "id": "b142ca7e-fe00-4d7c-9a3b-2d6bc9ab4ea2",
   "metadata": {},
   "outputs": [
    {
     "data": {
      "text/plain": [
       "9415"
      ]
     },
     "execution_count": 8,
     "metadata": {},
     "output_type": "execute_result"
    }
   ],
   "source": [
    "books['original_title'].count()"
   ]
  },
  {
   "cell_type": "code",
   "execution_count": 9,
   "id": "5139e002-b896-402c-888f-89d7393efb3b",
   "metadata": {},
   "outputs": [],
   "source": [
    "from sklearn.feature_extraction.text import TfidfVectorizer\n",
    "from sklearn.metrics.pairwise import cosine_similarity\n",
    "\n",
    "\n",
    "# Группируем теги по книге, объединяя их в одну строку\n",
    "book_tag_texts = book_tags_full.groupby('goodreads_book_id')['tag_name'].apply(lambda x: ' '.join(x)).reset_index()"
   ]
  },
  {
   "cell_type": "code",
   "execution_count": 10,
   "id": "836740d1-e305-4bea-bc12-dd5aca5bad76",
   "metadata": {},
   "outputs": [],
   "source": [
    "# Заполним пропуски в оригинальных названиях\n",
    "books['original_title'] = books['original_title'].fillna(books['title'])"
   ]
  },
  {
   "cell_type": "code",
   "execution_count": 11,
   "id": "d5c20375-f73a-4908-ad55-c18c0160ee0a",
   "metadata": {},
   "outputs": [
    {
     "data": {
      "text/plain": [
       "0"
      ]
     },
     "execution_count": 11,
     "metadata": {},
     "output_type": "execute_result"
    }
   ],
   "source": [
    "books['original_title'].isna().sum()"
   ]
  },
  {
   "cell_type": "code",
   "execution_count": 12,
   "id": "fc36ec4b-df47-42de-a6ea-546fa7ff67ae",
   "metadata": {},
   "outputs": [],
   "source": [
    "# Соединяем книги и их теги\n",
    "books_with_tags = books.merge(book_tag_texts, left_on='book_id', right_on='goodreads_book_id', how='left')\n"
   ]
  },
  {
   "cell_type": "code",
   "execution_count": 13,
   "id": "1e667832-bc59-4fc5-b15f-5e2b24087421",
   "metadata": {},
   "outputs": [],
   "source": [
    "#  Создаём текстовый профиль книги \n",
    "books_with_tags['text_profile'] = books_with_tags['original_title'].fillna('') + ' ' + books_with_tags['tag_name'].fillna('')"
   ]
  },
  {
   "cell_type": "code",
   "execution_count": 14,
   "id": "6a47723c-0958-4550-a637-cd92f06a59fe",
   "metadata": {},
   "outputs": [
    {
     "data": {
      "text/plain": [
       "0    The Hunger Games favorites currently-reading y...\n",
       "Name: text_profile, dtype: object"
      ]
     },
     "execution_count": 14,
     "metadata": {},
     "output_type": "execute_result"
    }
   ],
   "source": [
    "books_with_tags['text_profile'].head(1)"
   ]
  },
  {
   "cell_type": "code",
   "execution_count": 15,
   "id": "2c029fa1-fe64-404d-a3cc-72ba32758c6f",
   "metadata": {},
   "outputs": [],
   "source": [
    "# Векторизация TF-IDF \n",
    "tfidf = TfidfVectorizer(stop_words='english')\n",
    "tfidf_matrix = tfidf.fit_transform(books_with_tags['text_profile'])"
   ]
  },
  {
   "cell_type": "code",
   "execution_count": 16,
   "id": "de56f488-b392-499e-bcb7-4b2d93a80155",
   "metadata": {},
   "outputs": [
    {
     "data": {
      "text/html": [
       "<div>\n",
       "<style scoped>\n",
       "    .dataframe tbody tr th:only-of-type {\n",
       "        vertical-align: middle;\n",
       "    }\n",
       "\n",
       "    .dataframe tbody tr th {\n",
       "        vertical-align: top;\n",
       "    }\n",
       "\n",
       "    .dataframe thead th {\n",
       "        text-align: right;\n",
       "    }\n",
       "</style>\n",
       "<table border=\"1\" class=\"dataframe\">\n",
       "  <thead>\n",
       "    <tr style=\"text-align: right;\">\n",
       "      <th></th>\n",
       "      <th>id</th>\n",
       "      <th>book_id</th>\n",
       "      <th>best_book_id</th>\n",
       "      <th>work_id</th>\n",
       "      <th>books_count</th>\n",
       "      <th>isbn</th>\n",
       "      <th>isbn13</th>\n",
       "      <th>authors</th>\n",
       "      <th>original_publication_year</th>\n",
       "      <th>original_title</th>\n",
       "      <th>...</th>\n",
       "      <th>ratings_1</th>\n",
       "      <th>ratings_2</th>\n",
       "      <th>ratings_3</th>\n",
       "      <th>ratings_4</th>\n",
       "      <th>ratings_5</th>\n",
       "      <th>image_url</th>\n",
       "      <th>small_image_url</th>\n",
       "      <th>goodreads_book_id</th>\n",
       "      <th>tag_name</th>\n",
       "      <th>text_profile</th>\n",
       "    </tr>\n",
       "  </thead>\n",
       "  <tbody>\n",
       "    <tr>\n",
       "      <th>0</th>\n",
       "      <td>1</td>\n",
       "      <td>2767052</td>\n",
       "      <td>2767052</td>\n",
       "      <td>2792775</td>\n",
       "      <td>272</td>\n",
       "      <td>439023483</td>\n",
       "      <td>9.780439e+12</td>\n",
       "      <td>Suzanne Collins</td>\n",
       "      <td>2008.0</td>\n",
       "      <td>The Hunger Games</td>\n",
       "      <td>...</td>\n",
       "      <td>66715</td>\n",
       "      <td>127936</td>\n",
       "      <td>560092</td>\n",
       "      <td>1481305</td>\n",
       "      <td>2706317</td>\n",
       "      <td>https://images.gr-assets.com/books/1447303603m...</td>\n",
       "      <td>https://images.gr-assets.com/books/1447303603s...</td>\n",
       "      <td>2767052</td>\n",
       "      <td>favorites currently-reading young-adult fictio...</td>\n",
       "      <td>The Hunger Games favorites currently-reading y...</td>\n",
       "    </tr>\n",
       "    <tr>\n",
       "      <th>1</th>\n",
       "      <td>2</td>\n",
       "      <td>3</td>\n",
       "      <td>3</td>\n",
       "      <td>4640799</td>\n",
       "      <td>491</td>\n",
       "      <td>439554934</td>\n",
       "      <td>9.780440e+12</td>\n",
       "      <td>J.K. Rowling, Mary GrandPré</td>\n",
       "      <td>1997.0</td>\n",
       "      <td>Harry Potter and the Philosopher's Stone</td>\n",
       "      <td>...</td>\n",
       "      <td>75504</td>\n",
       "      <td>101676</td>\n",
       "      <td>455024</td>\n",
       "      <td>1156318</td>\n",
       "      <td>3011543</td>\n",
       "      <td>https://images.gr-assets.com/books/1474154022m...</td>\n",
       "      <td>https://images.gr-assets.com/books/1474154022s...</td>\n",
       "      <td>3</td>\n",
       "      <td>to-read favorites fantasy currently-reading yo...</td>\n",
       "      <td>Harry Potter and the Philosopher's Stone to-re...</td>\n",
       "    </tr>\n",
       "    <tr>\n",
       "      <th>2</th>\n",
       "      <td>3</td>\n",
       "      <td>41865</td>\n",
       "      <td>41865</td>\n",
       "      <td>3212258</td>\n",
       "      <td>226</td>\n",
       "      <td>316015849</td>\n",
       "      <td>9.780316e+12</td>\n",
       "      <td>Stephenie Meyer</td>\n",
       "      <td>2005.0</td>\n",
       "      <td>Twilight</td>\n",
       "      <td>...</td>\n",
       "      <td>456191</td>\n",
       "      <td>436802</td>\n",
       "      <td>793319</td>\n",
       "      <td>875073</td>\n",
       "      <td>1355439</td>\n",
       "      <td>https://images.gr-assets.com/books/1361039443m...</td>\n",
       "      <td>https://images.gr-assets.com/books/1361039443s...</td>\n",
       "      <td>41865</td>\n",
       "      <td>young-adult fantasy favorites vampires ya fict...</td>\n",
       "      <td>Twilight young-adult fantasy favorites vampire...</td>\n",
       "    </tr>\n",
       "    <tr>\n",
       "      <th>3</th>\n",
       "      <td>4</td>\n",
       "      <td>2657</td>\n",
       "      <td>2657</td>\n",
       "      <td>3275794</td>\n",
       "      <td>487</td>\n",
       "      <td>61120081</td>\n",
       "      <td>9.780061e+12</td>\n",
       "      <td>Harper Lee</td>\n",
       "      <td>1960.0</td>\n",
       "      <td>To Kill a Mockingbird</td>\n",
       "      <td>...</td>\n",
       "      <td>60427</td>\n",
       "      <td>117415</td>\n",
       "      <td>446835</td>\n",
       "      <td>1001952</td>\n",
       "      <td>1714267</td>\n",
       "      <td>https://images.gr-assets.com/books/1361975680m...</td>\n",
       "      <td>https://images.gr-assets.com/books/1361975680s...</td>\n",
       "      <td>2657</td>\n",
       "      <td>classics favorites to-read classic historical-...</td>\n",
       "      <td>To Kill a Mockingbird classics favorites to-re...</td>\n",
       "    </tr>\n",
       "    <tr>\n",
       "      <th>4</th>\n",
       "      <td>5</td>\n",
       "      <td>4671</td>\n",
       "      <td>4671</td>\n",
       "      <td>245494</td>\n",
       "      <td>1356</td>\n",
       "      <td>743273567</td>\n",
       "      <td>9.780743e+12</td>\n",
       "      <td>F. Scott Fitzgerald</td>\n",
       "      <td>1925.0</td>\n",
       "      <td>The Great Gatsby</td>\n",
       "      <td>...</td>\n",
       "      <td>86236</td>\n",
       "      <td>197621</td>\n",
       "      <td>606158</td>\n",
       "      <td>936012</td>\n",
       "      <td>947718</td>\n",
       "      <td>https://images.gr-assets.com/books/1490528560m...</td>\n",
       "      <td>https://images.gr-assets.com/books/1490528560s...</td>\n",
       "      <td>4671</td>\n",
       "      <td>classics favorites fiction classic books-i-own...</td>\n",
       "      <td>The Great Gatsby classics favorites fiction cl...</td>\n",
       "    </tr>\n",
       "  </tbody>\n",
       "</table>\n",
       "<p>5 rows × 26 columns</p>\n",
       "</div>"
      ],
      "text/plain": [
       "   id  book_id  best_book_id  work_id  books_count       isbn        isbn13  \\\n",
       "0   1  2767052       2767052  2792775          272  439023483  9.780439e+12   \n",
       "1   2        3             3  4640799          491  439554934  9.780440e+12   \n",
       "2   3    41865         41865  3212258          226  316015849  9.780316e+12   \n",
       "3   4     2657          2657  3275794          487   61120081  9.780061e+12   \n",
       "4   5     4671          4671   245494         1356  743273567  9.780743e+12   \n",
       "\n",
       "                       authors  original_publication_year  \\\n",
       "0              Suzanne Collins                     2008.0   \n",
       "1  J.K. Rowling, Mary GrandPré                     1997.0   \n",
       "2              Stephenie Meyer                     2005.0   \n",
       "3                   Harper Lee                     1960.0   \n",
       "4          F. Scott Fitzgerald                     1925.0   \n",
       "\n",
       "                             original_title  ... ratings_1 ratings_2  \\\n",
       "0                          The Hunger Games  ...     66715    127936   \n",
       "1  Harry Potter and the Philosopher's Stone  ...     75504    101676   \n",
       "2                                  Twilight  ...    456191    436802   \n",
       "3                     To Kill a Mockingbird  ...     60427    117415   \n",
       "4                          The Great Gatsby  ...     86236    197621   \n",
       "\n",
       "   ratings_3  ratings_4  ratings_5  \\\n",
       "0     560092    1481305    2706317   \n",
       "1     455024    1156318    3011543   \n",
       "2     793319     875073    1355439   \n",
       "3     446835    1001952    1714267   \n",
       "4     606158     936012     947718   \n",
       "\n",
       "                                           image_url  \\\n",
       "0  https://images.gr-assets.com/books/1447303603m...   \n",
       "1  https://images.gr-assets.com/books/1474154022m...   \n",
       "2  https://images.gr-assets.com/books/1361039443m...   \n",
       "3  https://images.gr-assets.com/books/1361975680m...   \n",
       "4  https://images.gr-assets.com/books/1490528560m...   \n",
       "\n",
       "                                     small_image_url  goodreads_book_id  \\\n",
       "0  https://images.gr-assets.com/books/1447303603s...            2767052   \n",
       "1  https://images.gr-assets.com/books/1474154022s...                  3   \n",
       "2  https://images.gr-assets.com/books/1361039443s...              41865   \n",
       "3  https://images.gr-assets.com/books/1361975680s...               2657   \n",
       "4  https://images.gr-assets.com/books/1490528560s...               4671   \n",
       "\n",
       "                                            tag_name  \\\n",
       "0  favorites currently-reading young-adult fictio...   \n",
       "1  to-read favorites fantasy currently-reading yo...   \n",
       "2  young-adult fantasy favorites vampires ya fict...   \n",
       "3  classics favorites to-read classic historical-...   \n",
       "4  classics favorites fiction classic books-i-own...   \n",
       "\n",
       "                                        text_profile  \n",
       "0  The Hunger Games favorites currently-reading y...  \n",
       "1  Harry Potter and the Philosopher's Stone to-re...  \n",
       "2  Twilight young-adult fantasy favorites vampire...  \n",
       "3  To Kill a Mockingbird classics favorites to-re...  \n",
       "4  The Great Gatsby classics favorites fiction cl...  \n",
       "\n",
       "[5 rows x 26 columns]"
      ]
     },
     "execution_count": 16,
     "metadata": {},
     "output_type": "execute_result"
    }
   ],
   "source": [
    "books_with_tags.head()"
   ]
  },
  {
   "cell_type": "code",
   "execution_count": 17,
   "id": "35a0711a-6745-4d8a-8683-90af1d39d54e",
   "metadata": {},
   "outputs": [],
   "source": [
    "from sklearn.neighbors import NearestNeighbors\n",
    "from scipy.sparse import csr_matrix\n",
    "import numpy as np\n",
    "import pandas as pd"
   ]
  },
  {
   "cell_type": "code",
   "execution_count": 18,
   "id": "a4d017bb-7e75-4477-8982-151f2bb2e40a",
   "metadata": {},
   "outputs": [],
   "source": [
    "# Функция поиска похожих книг\n",
    "def prepare_tfidf_neighbors(tfidf_matrix, n_neighbors=20, n_jobs=-1):\n",
    "    \n",
    "    nn = NearestNeighbors(n_neighbors=n_neighbors, metric='cosine', algorithm='brute', n_jobs=n_jobs)\n",
    "    nn.fit(tfidf_matrix)\n",
    "    return nn\n",
    "\n",
    "def get_similar_books_nn(book_id, nn_model, books_with_tags, tfidf_matrix, N=5):\n",
    "    \"\"\"\n",
    "    Возвращает DataFrame похожих книг (N штук).\n",
    "    \"\"\"\n",
    "    print(f'Книги, похожие на книгу под номером {book_id}')\n",
    "    \n",
    "    # ПРОВЕРКА: есть ли книга в данных\n",
    "    book_mask = books_with_tags['book_id'] == book_id\n",
    "    if not book_mask.any():\n",
    "        print(f\" Книга {book_id} не найдена в books_with_tags\")\n",
    "        return pd.DataFrame()\n",
    "    \n",
    "    # Получаем индекс строки в матрице\n",
    "    idx = books_with_tags[book_mask].index[0]\n",
    "    \n",
    "    \n",
    "    # Поиск похожих книг\n",
    "    distances, indices = nn_model.kneighbors(tfidf_matrix[idx])\n",
    "    sims = 1.0 - distances.flatten()\n",
    "    closest = indices.flatten()[1:N+1]  # пропускаем саму книгу\n",
    "    \n",
    "    # Получаем информацию о похожих книгах\n",
    "    result = books_with_tags.iloc[closest][['book_id', 'original_title', 'authors']].copy()\n",
    "    result['similarity'] = sims[1:N+1]\n",
    "    \n",
    "    print(f\"Найдено {len(result)} похожих книг\")\n",
    "    return result.reset_index(drop=True)"
   ]
  },
  {
   "cell_type": "code",
   "execution_count": 19,
   "id": "7fa012bb-5697-4db4-bf8c-ae485940459b",
   "metadata": {},
   "outputs": [
    {
     "name": "stdout",
     "output_type": "stream",
     "text": [
      "Книги, похожие на книгу под номером 3\n",
      "Найдено 5 похожих книг\n",
      "   book_id                            original_title  \\\n",
      "0    15881   Harry Potter and the Chamber of Secrets   \n",
      "1        5  Harry Potter and the Prisoner of Azkaban   \n",
      "2        1    Harry Potter and the Half-Blood Prince   \n",
      "3        6       Harry Potter and the Goblet of Fire   \n",
      "4   136251      Harry Potter and the Deathly Hallows   \n",
      "\n",
      "                                   authors  similarity  \n",
      "0              J.K. Rowling, Mary GrandPré    0.938596  \n",
      "1  J.K. Rowling, Mary GrandPré, Rufus Beck    0.927669  \n",
      "2              J.K. Rowling, Mary GrandPré    0.923824  \n",
      "3              J.K. Rowling, Mary GrandPré    0.919589  \n",
      "4              J.K. Rowling, Mary GrandPré    0.913415  \n"
     ]
    }
   ],
   "source": [
    "# Проверим на практике\n",
    "nn_model = prepare_tfidf_neighbors(tfidf_matrix, n_neighbors=20)\n",
    "\n",
    "similar_books = get_similar_books_nn(3, nn_model, books_with_tags, tfidf_matrix, N=5)\n",
    "\n",
    "print(similar_books.head())"
   ]
  },
  {
   "cell_type": "code",
   "execution_count": 20,
   "id": "6dcec227-71df-4e74-8fb7-8c7de379c865",
   "metadata": {},
   "outputs": [
    {
     "name": "stdout",
     "output_type": "stream",
     "text": [
      "Тестируем первую книгу в данных: ID = 2767052\n",
      "Книги, похожие на книгу под номером 2767052\n",
      "Найдено 5 похожих книг\n",
      "    book_id                                     original_title  \\\n",
      "0   7260188                                         Mockingjay   \n",
      "1   6148028                                      Catching Fire   \n",
      "2   7938275                           The Hunger Games Box Set   \n",
      "3  13027304                     The Hunger Games Tribute Guide   \n",
      "4  11742691  The Hunger Games: Official Illustrated Movie C...   \n",
      "\n",
      "           authors  similarity  \n",
      "0  Suzanne Collins    0.944355  \n",
      "1  Suzanne Collins    0.929562  \n",
      "2  Suzanne Collins    0.916654  \n",
      "3      Emily Seife    0.692629  \n",
      "4        Kate Egan    0.686390  \n"
     ]
    }
   ],
   "source": [
    "\n",
    "first_id = books_with_tags['book_id'].iloc[0]\n",
    "print(f\"Тестируем первую книгу в данных: ID = {first_id}\")\n",
    "\n",
    "similar_books = get_similar_books_nn(first_id, nn_model, books_with_tags, tfidf_matrix, N=5)\n",
    "print(similar_books)"
   ]
  },
  {
   "cell_type": "code",
   "execution_count": 21,
   "id": "c9358d1a-7a6e-42cd-8c23-36b74f657d6a",
   "metadata": {},
   "outputs": [
    {
     "name": "stdout",
     "output_type": "stream",
     "text": [
      "<class 'pandas.core.frame.DataFrame'>\n",
      "RangeIndex: 981756 entries, 0 to 981755\n",
      "Data columns (total 3 columns):\n",
      " #   Column   Non-Null Count   Dtype\n",
      "---  ------   --------------   -----\n",
      " 0   book_id  981756 non-null  int64\n",
      " 1   user_id  981756 non-null  int64\n",
      " 2   rating   981756 non-null  int64\n",
      "dtypes: int64(3)\n",
      "memory usage: 22.5 MB\n",
      "None\n"
     ]
    }
   ],
   "source": [
    "print(ratings.info())"
   ]
  },
  {
   "cell_type": "code",
   "execution_count": 22,
   "id": "31009c36-d47b-4755-aa0b-91b09e59530d",
   "metadata": {},
   "outputs": [
    {
     "name": "stdout",
     "output_type": "stream",
     "text": [
      "=== Матрица с явными оценками ===\n",
      "Размерность: (53424, 10000)\n",
      "Количество оценок: 979478\n",
      "Разреженность: 99.82%\n",
      "\n",
      "Первые 5 строк и 10 столбцов:\n",
      "book_id   1    2    3    4    5    6    7    8    9    10\n",
      "user_id                                                  \n",
      "1        0.0  0.0  0.0  0.0  0.0  0.0  0.0  0.0  0.0  0.0\n",
      "2        0.0  0.0  0.0  0.0  0.0  0.0  0.0  0.0  0.0  0.0\n",
      "3        0.0  0.0  0.0  0.0  0.0  0.0  0.0  0.0  0.0  0.0\n",
      "4        0.0  0.0  0.0  0.0  0.0  0.0  0.0  0.0  0.0  0.0\n",
      "5        0.0  0.0  0.0  0.0  0.0  0.0  0.0  0.0  0.0  0.0\n"
     ]
    }
   ],
   "source": [
    "#Матрица с явными оценками\n",
    "user_book_rating_matrix = ratings.pivot_table(\n",
    "    index='user_id',\n",
    "    columns='book_id',\n",
    "    values='rating',\n",
    "    fill_value=0  # или fill_value=None чтобы оставить NaN\n",
    ")\n",
    "\n",
    "print(\"=== Матрица с явными оценками ===\")\n",
    "print(f\"Размерность: {user_book_rating_matrix.shape}\")\n",
    "print(f\"Количество оценок: {(user_book_rating_matrix > 0).sum().sum()}\")\n",
    "print(f\"Разреженность: {(1 - (user_book_rating_matrix > 0).sum().sum() / (user_book_rating_matrix.shape[0] * user_book_rating_matrix.shape[1])) * 100:.2f}%\")\n",
    "print(\"\\nПервые 5 строк и 10 столбцов:\")\n",
    "print(user_book_rating_matrix.iloc[:5, :10])"
   ]
  },
  {
   "cell_type": "code",
   "execution_count": 23,
   "id": "57514d4d-9c89-4f66-ac04-992203083367",
   "metadata": {},
   "outputs": [],
   "source": [
    "def calculate_topk_item_neighbors(ratings_matrix, top_k=50, metric='cosine', n_jobs=-1):\n",
    "    \n",
    "    # 1. Просто транспонируем существующую матрицу (уже с нулями вместо NaN)\n",
    "    sparse_matrix = csr_matrix(ratings_matrix.values.T, dtype=np.float32)\n",
    "    \n",
    "    print(f\"Размер разреженной матрицы: {sparse_matrix.shape}\")\n",
    "    print(f\"Количество ненулевых элементов: {sparse_matrix.nnz}\")\n",
    "    \n",
    "    # 2. Проверяем, что у нас достаточно данных\n",
    "    n_items = sparse_matrix.shape[0]\n",
    "    if n_items <= top_k:\n",
    "        print(\"Предупреждение: количество книг меньше top_k\")\n",
    "        return {}\n",
    "    \n",
    "    # 3. Находим ближайших соседей\n",
    "    k = min(top_k + 1, n_items)  # +1 чтобы исключить саму книгу\n",
    "    \n",
    "    nn = NearestNeighbors(n_neighbors=k, metric=metric, algorithm='brute', n_jobs=1)\n",
    "    nn.fit(sparse_matrix)\n",
    "    \n",
    "    distances, indices = nn.kneighbors(sparse_matrix)\n",
    "    similarities = 1.0 - distances\n",
    "    \n",
    "    # 4. Собираем результаты\n",
    "    item_ids = list(ratings_matrix.columns)  # ID книг\n",
    "    topk_dict = {}\n",
    "    \n",
    "    for i, item_id in enumerate(item_ids):\n",
    "        # Пропускаем саму книгу и берем top_k соседей\n",
    "        neighbor_indices = indices[i][1:top_k+1]  # пропускаем первый (сама книга)\n",
    "        neighbor_similarities = similarities[i][1:top_k+1]\n",
    "        \n",
    "        neighbors = []\n",
    "        for idx, sim in zip(neighbor_indices, neighbor_similarities):\n",
    "            if idx < len(item_ids):  # проверка границ\n",
    "                neighbors.append((item_ids[idx], float(sim)))\n",
    "        \n",
    "        topk_dict[item_id] = neighbors\n",
    "    \n",
    "    return topk_dict\n"
   ]
  },
  {
   "cell_type": "code",
   "execution_count": 24,
   "id": "1c489156-82d1-4456-b4aa-d0102ea24106",
   "metadata": {},
   "outputs": [],
   "source": [
    "#Функция предсказания оценки (улучшеная)\n",
    "def predict_rating_item_based(user_id, book_id, ratings_matrix, topk_neighbors, k=10):\n",
    "    \n",
    "    # Оптимизация: глобальное среднее вычисляем один раз и кэшируем\n",
    "    global_mean = ratings_matrix.values.mean()  # быстрее чем stack() для больших матриц\n",
    "    \n",
    "    # Быстрая проверка наличия книги и пользователя\n",
    "    if book_id not in topk_neighbors:\n",
    "        # Если у нас нет информации о похожих книгах — вернём среднее пользователя или глобальное\n",
    "        if user_id in ratings_matrix.index:\n",
    "            user_ratings = ratings_matrix.loc[user_id]\n",
    "            # Используем встроенные методы pandas для скорости\n",
    "            user_mean = user_ratings.replace(0, np.nan).mean()  # заменяем 0 на NaN для игнорирования\n",
    "            if not np.isnan(user_mean):\n",
    "                return float(user_mean)\n",
    "        return float(global_mean)\n",
    "\n",
    "    if user_id not in ratings_matrix.index:\n",
    "        # Новый пользователь — возвращаем популярное/среднее (холодный старт)\n",
    "        return float(global_mean)\n",
    "    \n",
    "    neighbors = topk_neighbors[book_id][:k]\n",
    "    weighted_sum = 0.0\n",
    "    sim_sum = 0.0\n",
    "    \n",
    "    # Оптимизация: получаем данные пользователя один раз\n",
    "    user_ratings_series = ratings_matrix.loc[user_id]\n",
    "    \n",
    "    for neigh_item, sim in neighbors:\n",
    "        # Быстрая проверка наличия книги у пользователя\n",
    "        if neigh_item in user_ratings_series.index:\n",
    "            rating = user_ratings_series[neigh_item]\n",
    "            # Проверяем что оценка ненулевая (не пропуск)\n",
    "            if rating != 0:  # так как у вас нули вместо NaN\n",
    "                weighted_sum += sim * rating\n",
    "                sim_sum += sim\n",
    "    \n",
    "    if sim_sum == 0:\n",
    "        # Нет пересечения с соседями — fallback\n",
    "        user_mean = user_ratings_series.replace(0, np.nan).mean()\n",
    "        if not np.isnan(user_mean):\n",
    "            return float(user_mean)\n",
    "        return float(global_mean)\n",
    "    \n",
    "    return float(weighted_sum / sim_sum)"
   ]
  },
  {
   "cell_type": "code",
   "execution_count": 25,
   "id": "595ef4dd-20aa-4fbb-95dd-ea472ae51b0f",
   "metadata": {},
   "outputs": [
    {
     "name": "stdout",
     "output_type": "stream",
     "text": [
      "Тестирование Item-Based Collaborative Filtering\n",
      "Размер разреженной матрицы: (10000, 53424)\n",
      "Количество ненулевых элементов: 979478\n",
      "Предсказанная оценка (явные рейтинги): 3.583\n"
     ]
    }
   ],
   "source": [
    "# Тестируем на примере\n",
    "test_user_id = 3980  \n",
    "test_book_id = 55    \n",
    "\n",
    "print(\"Тестирование Item-Based Collaborative Filtering\")\n",
    "\n",
    "item_similarity_test = calculate_topk_item_neighbors(user_book_rating_matrix, top_k=50, metric='cosine')\n",
    "\n",
    "# Предсказание\n",
    "prediction_1 = predict_rating_item_based(\n",
    "    test_user_id, test_book_id, \n",
    "    user_book_rating_matrix, item_similarity_test, k=10\n",
    ")\n",
    "\n",
    "print(f\"Предсказанная оценка (явные рейтинги): {prediction_1:.3f}\")"
   ]
  },
  {
   "cell_type": "markdown",
   "id": "b65dfcfe-5798-4c81-8c38-18c8c65fd295",
   "metadata": {
    "jp-MarkdownHeadingCollapsed": true
   },
   "source": [
    "### Вычислительная сложность Item-Based Collaborative Filtering\n",
    "\n",
    "Расчёт матрицы схожестей (calculate_item_similarity_matrix), cоздаётся полная матрица “книга × книга” с помощью cosine_similarity.\n",
    "\n",
    "Если у нас M книг, то для каждой пары книг нужно вычислить схожесть →\n",
    "O(M²) операций по числу пар.\n",
    "\n",
    "Поскольку каждая строка — вектор длиной N (число пользователей)\n",
    "Это очень тяжело при большом M (например, 100k+ книг).\n",
    "\n",
    "Память: хранение матрицы M×M требует O(M²) памяти.\n",
    "В примере (10000 × 10000) уже даёт 100 млн элементов"
   ]
  },
  {
   "cell_type": "markdown",
   "id": "2c5527b1-9ec8-4167-8abf-249cb92dcee0",
   "metadata": {},
   "source": [
    "### Как можно оптимизировать для больших данных?\n",
    "\n",
    "Используешь csr_matrix \n",
    "Это позволяет экономить память и ускоряет умножение при cosine_similarity.\n",
    "\n",
    "Ограничение числа соседей (Top-N)\n",
    "Вместо хранения полной M×M матрицы можно сохранять только Top-N самых похожих книг для каждой книги.\n",
    "Это уменьшает память с O(M²) до O(M×N).\n",
    "\n",
    "Приближённый поиск (Approximate Nearest Neighbors)\n",
    "Для больших коллекций можно использовать: Annoy, FAISS, ScaNN\n",
    "Они позволяют искать похожие книги за O(log M) вместо полного сравнения.\n",
    "\n",
    "Параллелизация\n",
    "Функцию cosine_similarity можно вызывать по батчам или распараллелить через joblib или dask.\n",
    "\n",
    "Фильтрация по активности\n",
    "Исключение книг с малым числом оценок, резко уменьшает размер M без потери качества."
   ]
  },
  {
   "cell_type": "code",
   "execution_count": 26,
   "id": "cdfd8596-f737-4ea1-a207-de9f262f009a",
   "metadata": {},
   "outputs": [],
   "source": [
    "from surprise import Dataset, Reader, SVD\n",
    "from surprise.model_selection import train_test_split\n",
    "from surprise import accuracy\n",
    "import pandas as pd\n",
    "from tqdm import tqdm"
   ]
  },
  {
   "cell_type": "code",
   "execution_count": 27,
   "id": "f7dbfeca-5e89-49d2-8aeb-86123727923c",
   "metadata": {},
   "outputs": [
    {
     "name": "stdout",
     "output_type": "stream",
     "text": [
      "Обучение SVD...\n",
      "Обучение завершено\n",
      "RMSE: 0.8402\n",
      "RMSE: 0.8402348403007891\n",
      "Пример уникальных предсказаний (первые 10 уникальных): [1.0, 1.0128, 1.0179, 1.0209, 1.0317, 1.0379, 1.0389, 1.0844, 1.0878, 1.1059]\n"
     ]
    }
   ],
   "source": [
    "# Подготовка данных для библиотеки Surprise\n",
    "data_for_surprise = ratings[['user_id', 'book_id', 'rating']]\n",
    "# SVD: подготовка данных, диагностика, корректный генератор рекомендаций \n",
    "from surprise import Dataset, Reader, SVD\n",
    "from surprise.model_selection import train_test_split\n",
    "from surprise import accuracy\n",
    "\n",
    "# проверить: рейтинги числовые \n",
    "data_for_surprise['rating'] = pd.to_numeric(data_for_surprise['rating'], errors='coerce')\n",
    "data_for_surprise = data_for_surprise.dropna(subset=['rating'])\n",
    "data_for_surprise['rating'] = data_for_surprise['rating'].astype(float)\n",
    "\n",
    "# Создаём датасет в surprise \n",
    "reader = Reader(rating_scale=(data_for_surprise['rating'].min(), data_for_surprise['rating'].max()))\n",
    "data = Dataset.load_from_df(data_for_surprise[['user_id', 'book_id', 'rating']], reader)\n",
    "\n",
    "# Разбиваем train/test \n",
    "trainset, testset = train_test_split(data, test_size=0.2, random_state=42)\n",
    "\n",
    "#  Создаём модель SVD \n",
    "model = SVD(n_factors=50, n_epochs=20, biased=True, random_state=42, verbose=False)\n",
    "\n",
    "print(\"Обучение SVD...\")\n",
    "model.fit(trainset)\n",
    "print(\"Обучение завершено\")\n",
    "\n",
    "#  Проверка предсказаний на тесте \n",
    "predictions = model.test(testset)\n",
    "rmse = accuracy.rmse(predictions, verbose=True)\n",
    "print(\"RMSE:\", rmse)\n",
    "\n",
    "#  Диагностика: какие уникальные предсказания? \n",
    "pred_values = [round(p.est, 4) for p in predictions]\n",
    "unique_preds = sorted(set(pred_values))[:10]\n",
    "print(\"Пример уникальных предсказаний (первые 10 уникальных):\", unique_preds[:10])\n"
   ]
  },
  {
   "cell_type": "code",
   "execution_count": 28,
   "id": "2b6f237f-e594-47f2-9225-e992490d7acf",
   "metadata": {},
   "outputs": [],
   "source": [
    "# Реализуем функцию генерации рекомендаций\n",
    "# Получение топ-N рекомендаций от SVD (без предсказаний для неизвестных айтемов) \n",
    "def get_svd_recommendations(model, trainset, user_raw_id, books_df, N=10):\n",
    "    \"\"\"\n",
    "    model: обученная модель surprise.SVD\n",
    "    trainset: trainset, на котором обучали (объект surprise.trainset)\n",
    "    user_raw_id: id пользователя в том же формате, что и в исходном DataFrame\n",
    "    books_df: DataFrame с информацией о книгах (columns содержит 'book_id' в том же формате)\n",
    "    Возвращает DataFrame с топ-N рекомендациями (book_id, title, est_rating)\n",
    "    \"\"\"\n",
    "    try:\n",
    "        inner_uid = trainset.to_inner_uid(user_raw_id)  # если пользователя нет — выбросит ValueError\n",
    "    except ValueError:\n",
    "        # Холодный старт пользователя: вернуть топ популярных книг (по среднему рейтингу в датасете)\n",
    "        popular = books_df.merge(\n",
    "            data_for_surprise.groupby('book_id')['rating'].mean().reset_index(),\n",
    "            left_on='book_id', right_on='book_id', how='left'\n",
    "        ).sort_values('rating', ascending=False)\n",
    "        return popular[['book_id', 'original_title', 'authors', 'rating']].head(N)\n",
    "\n",
    "    # items, которые есть в trainset (inner ids)\n",
    "    all_inner_items = list(trainset.all_items())\n",
    "    # items, которые пользователь уже оценил (inner ids)\n",
    "    rated_by_user = set([j for (j, _) in trainset.ur[inner_uid]])\n",
    "    candidates = [i for i in all_inner_items if i not in rated_by_user]\n",
    "\n",
    "    preds = []\n",
    "    for inner_i in candidates:\n",
    "        raw_i = trainset.to_raw_iid(inner_i)\n",
    "        pred = model.predict(user_raw_id, raw_i)\n",
    "        preds.append((raw_i, pred.est))\n",
    "\n",
    "    preds.sort(key=lambda x: x[1], reverse=True)\n",
    "    top = preds[:N]\n",
    "    top_df = pd.DataFrame(top, columns=['book_id', 'predicted_rating'])\n",
    "    \n",
    "    top_df = top_df.merge(books_df, left_on='book_id', right_on='book_id', how='left')\n",
    "    return top_df[['book_id', 'original_title', 'authors', 'predicted_rating']]\n",
    "\n"
   ]
  },
  {
   "cell_type": "code",
   "execution_count": 29,
   "id": "72911ea1-476c-44c3-8406-0a54e1e04e58",
   "metadata": {},
   "outputs": [
    {
     "name": "stdout",
     "output_type": "stream",
     "text": [
      "   book_id              original_title                        authors  \\\n",
      "0     6920                         NaN                            NaN   \n",
      "1     9566  Still Life with Woodpecker                    Tom Robbins   \n",
      "2     3628                         NaN                            NaN   \n",
      "3     3395                         NaN                            NaN   \n",
      "4     2244                         NaN                            NaN   \n",
      "5     9842                         NaN                            NaN   \n",
      "6     6590                         NaN                            NaN   \n",
      "7     8854                         NaN                            NaN   \n",
      "8     3885  The Taste of Home Cookbook  Janet Briggs, Beth Wittlinger   \n",
      "9     5384                         NaN                            NaN   \n",
      "\n",
      "   predicted_rating  \n",
      "0          4.982233  \n",
      "1          4.980175  \n",
      "2          4.947803  \n",
      "3          4.943862  \n",
      "4          4.940099  \n",
      "5          4.925761  \n",
      "6          4.906972  \n",
      "7          4.900614  \n",
      "8          4.888074  \n",
      "9          4.887620  \n"
     ]
    }
   ],
   "source": [
    "# Пример использования:\n",
    "recs = get_svd_recommendations(model, trainset, user_raw_id=378, books_df=books)\n",
    "print(recs.head(10))"
   ]
  },
  {
   "cell_type": "code",
   "execution_count": 30,
   "id": "1cc03760-6a68-45cb-a72e-a28ff5ac8bb4",
   "metadata": {},
   "outputs": [
    {
     "name": "stdout",
     "output_type": "stream",
     "text": [
      "Размер обучающей выборки: 785404\n",
      "Размер тестовой выборки: 196352\n"
     ]
    }
   ],
   "source": [
    "# 5 Этап\n",
    "from sklearn.model_selection import train_test_split\n",
    "# Порог, выше которого книга считается \"релевантной\"\n",
    "relevantn = 4\n",
    "\n",
    "# Разделим данные на обучающую и тестовую выборку\n",
    "train_data, test_data = train_test_split(ratings, test_size=0.2, random_state=42)\n",
    "\n",
    "print(f\"Размер обучающей выборки: {len(train_data)}\")\n",
    "print(f\"Размер тестовой выборки: {len(test_data)}\")\n",
    "\n",
    "# Определим релевантные книги в тестовой выборке\n",
    "test_data['relevant'] = (test_data['rating'] >= relevantn).astype(int)\n"
   ]
  },
  {
   "cell_type": "code",
   "execution_count": 31,
   "id": "0a109b3a-2387-4d09-8e94-16655f22d4b9",
   "metadata": {},
   "outputs": [],
   "source": [
    "#Реализация метрик Precision@K, Recall@K, nDCG@K\n",
    "def precision_at_k(recommended, relevant, k=5):\n",
    "   \n",
    "    \"\"\"Доля релевантных книг среди рекомендованных\"\"\"\n",
    "   \n",
    "    recommended_k = recommended[:k]\n",
    "    hits = len(set(recommended_k) & set(relevant))\n",
    "    return hits / k\n",
    "\n",
    "def recall_at_k(recommended, relevant, k=5):\n",
    "    \n",
    "    \"\"\"Доля найденных релевантных книг среди всех релевантных\"\"\"\n",
    "    recommended_k = recommended[:k]\n",
    "    hits = len(set(recommended_k) & set(relevant))\n",
    "    return hits / len(relevant) if len(relevant) > 0 else 0\n",
    "\n",
    "def ndcg_at_k(recommended, relevant, k=5):\n",
    "    \"\"\"Normalized Discounted Cumulative Gain\"\"\"\n",
    "    recommended_k = recommended[:k]\n",
    "    dcg = sum([(1 / np.log2(i + 2)) if rec in relevant else 0 for i, rec in enumerate(recommended_k)])\n",
    "    ideal_dcg = sum([1 / np.log2(i + 2) for i in range(min(k, len(relevant)))])\n",
    "    return dcg / ideal_dcg if ideal_dcg > 0 else 0"
   ]
  },
  {
   "cell_type": "markdown",
   "id": "5bd07c44-9d8b-4963-8b42-622aa60492b9",
   "metadata": {},
   "source": [
    "#### Сделаем несколько оптимизированых улучшеных моделей для сравнения "
   ]
  },
  {
   "cell_type": "code",
   "execution_count": 32,
   "id": "9487d9ac-0499-4e8c-94e6-82a90f339a21",
   "metadata": {},
   "outputs": [],
   "source": [
    "\n",
    "import pandas as pd\n",
    "#попробуем Item-Based CF (векторный метод)\n",
    "# уникальные книги, топ-популярные \n",
    "all_book_ids = ratings['book_id'].unique()\n",
    "\n",
    "popularity_list = popular_books['book_id'].tolist()\n",
    "\n",
    "K = 5\n",
    "\n",
    "#  Popularity-based recommendations (исключая книги, уже виденные в train_data)\n",
    "def get_popularity_recs(user_id, N=K):\n",
    "    seen_in_train = set(train_data[train_data['user_id'] == user_id]['book_id'].tolist())\n",
    "    recs = []\n",
    "    for b in popularity_list:\n",
    "        if b not in seen_in_train:\n",
    "            recs.append(b)\n",
    "        if len(recs) >= N:\n",
    "            break\n",
    "    return recs\n",
    " "
   ]
  },
  {
   "cell_type": "code",
   "execution_count": 33,
   "id": "df290cc6-4935-48df-8965-ebd8abf08584",
   "metadata": {},
   "outputs": [],
   "source": [
    "#  Item-based CF (БЫСТРАЯ версия с DataFrame)\n",
    "def get_itemcf_recs(user_id, N=K, similarity_df=None, rating_matrix=None):\n",
    "    if similarity_df is None:\n",
    "        similarity_df = item_similarity_df  # ← ИСПОЛЬЗУЕМ DATAFRAME\n",
    "    if rating_matrix is None:\n",
    "        rating_matrix = user_book_rating_matrix\n",
    "\n",
    "    if user_id not in rating_matrix.index:\n",
    "        return []\n",
    "\n",
    "    user_ratings = rating_matrix.loc[user_id]  \n",
    "    rated_books = user_ratings[user_ratings > 0].index.tolist()\n",
    "    if len(rated_books) == 0:\n",
    "        return []\n",
    "\n",
    "    # кандидаты — все книги, которых пользователь не оценил в train \n",
    "    seen_in_train = set(train_data[train_data['user_id'] == user_id]['book_id'].tolist())\n",
    "    candidates = [b for b in all_book_ids if b not in seen_in_train]\n",
    "\n",
    "    if len(candidates) == 0:\n",
    "        return []\n",
    "\n",
    "    # БЫСТРАЯ ОПЕРАЦИЯ С DATAFRAME\n",
    "    sim_sub = similarity_df.loc[candidates, rated_books]\n",
    "\n",
    "    ratings_vector = user_ratings.loc[rated_books].values\n",
    "    numer = sim_sub.values.dot(ratings_vector)  \n",
    "    denom = np.abs(sim_sub).sum(axis=1).values\n",
    "\n",
    "    preds = numer / (denom + 1e-9)\n",
    "    top_idx = np.argsort(preds)[-N:][::-1]\n",
    "    top_books = list(np.array(candidates)[top_idx])\n",
    "    return top_books\n",
    "\n"
   ]
  },
  {
   "cell_type": "code",
   "execution_count": 34,
   "id": "a5380b87-4ba1-4e12-a85d-e89a1cdd5df9",
   "metadata": {},
   "outputs": [],
   "source": [
    "#  SVD  Будем предсказывать только для книг, не оценённых пользователем в train_data.\n",
    "def get_svd_recs(user_id, N=K, svd_model=None):\n",
    "    if svd_model is None:\n",
    "        svd_model = model  \n",
    "\n",
    "    seen_in_train = set(train_data[train_data['user_id'] == user_id]['book_id'].tolist())\n",
    "    candidates = [b for b in all_book_ids if b not in seen_in_train]\n",
    "    if len(candidates) == 0:\n",
    "        return []\n",
    "\n",
    "    # Предсказания \n",
    "    preds = []\n",
    "    for b in candidates:\n",
    "        try:\n",
    "            pred = svd_model.predict(user_id, b)\n",
    "            preds.append((b, pred.est))\n",
    "        except:\n",
    "            \n",
    "            continue\n",
    "\n",
    "    preds_sorted = sorted(preds, key=lambda x: x[1], reverse=True)[:N]\n",
    "    top_books = [p[0] for p in preds_sorted]\n",
    "    return top_books\n",
    "\n"
   ]
  },
  {
   "cell_type": "code",
   "execution_count": 35,
   "id": "2ff2f1b5-acce-44de-92c6-077fdec82bdc",
   "metadata": {},
   "outputs": [],
   "source": [
    "# --- Оценка на тестовой выборке ---\n",
    "def evaluate_models_on_test(test_df, K=K, verbose=True):\n",
    "    users = test_df['user_id'].unique()\n",
    "    results = {\n",
    "        'Popularity': {'precisions': [], 'recalls': [], 'ndcgs': []},\n",
    "        'ItemCF': {'precisions': [], 'recalls': [], 'ndcgs': []},\n",
    "        'SVD': {'precisions': [], 'recalls': [], 'ndcgs': []}\n",
    "    }\n",
    "\n",
    "    for user in tqdm(users, desc=\"Evaluating users\"):\n",
    "        relevant_books = test_df[(test_df['user_id'] == user) & (test_df['rating'] >= 4)]['book_id'].tolist()\n",
    "        if len(relevant_books) == 0:\n",
    "            continue\n",
    "\n",
    "        # ИСПРАВЛЕННЫЙ ВЫЗОВ - передаем DataFrame\n",
    "        rec_pop = get_popularity_recs(user, N=K)\n",
    "        rec_item = get_itemcf_recs(user, N=K, similarity_df=item_similarity_df, rating_matrix=user_book_rating_matrix)  # ← item_similarity_df\n",
    "        rec_svd = get_svd_recs(user, N=K, svd_model=model)\n",
    "\n",
    "        # Вычисляем метрики\n",
    "        results['Popularity']['precisions'].append(precision_at_k(rec_pop, relevant_books, k=K))\n",
    "        results['Popularity']['recalls'].append(recall_at_k(rec_pop, relevant_books, k=K))\n",
    "        results['Popularity']['ndcgs'].append(ndcg_at_k(rec_pop, relevant_books, k=K))\n",
    "\n",
    "        results['ItemCF']['precisions'].append(precision_at_k(rec_item, relevant_books, k=K))\n",
    "        results['ItemCF']['recalls'].append(recall_at_k(rec_item, relevant_books, k=K))\n",
    "        results['ItemCF']['ndcgs'].append(ndcg_at_k(rec_item, relevant_books, k=K))\n",
    "\n",
    "        results['SVD']['precisions'].append(precision_at_k(rec_svd, relevant_books, k=K))\n",
    "        results['SVD']['recalls'].append(recall_at_k(rec_svd, relevant_books, k=K))\n",
    "        results['SVD']['ndcgs'].append(ndcg_at_k(rec_svd, relevant_books, k=K))\n",
    "    \n",
    "    return results\n",
    "    "
   ]
  },
  {
   "cell_type": "code",
   "execution_count": 36,
   "id": "b2fae6ff-626a-4425-b03d-2207ffdd6efa",
   "metadata": {},
   "outputs": [
    {
     "name": "stdout",
     "output_type": "stream",
     "text": [
      "Создание матрицы схожестей...\n",
      "Размер матрицы схожестей: (10000, 10000)\n"
     ]
    }
   ],
   "source": [
    "# Сначала создаем DataFrame из словаря\n",
    "def create_similarity_dataframe(similarity_dict, all_book_ids):\n",
    "    \"\"\"Создает DataFrame матрицы схожестей из словаря\"\"\"\n",
    "    n_books = len(all_book_ids)\n",
    "    book_to_idx = {book_id: idx for idx, book_id in enumerate(all_book_ids)}\n",
    "    \n",
    "    # Создаем разреженную матрицу\n",
    "    rows, cols, data = [], [], []\n",
    "    \n",
    "    for book_i, neighbors in similarity_dict.items():\n",
    "        if book_i in book_to_idx:\n",
    "            i = book_to_idx[book_i]\n",
    "            for book_j, sim in neighbors:\n",
    "                if book_j in book_to_idx:\n",
    "                    j = book_to_idx[book_j]\n",
    "                    rows.append(i)\n",
    "                    cols.append(j)\n",
    "                    data.append(sim)\n",
    "    \n",
    "    from scipy.sparse import csr_matrix\n",
    "    sparse_matrix = csr_matrix((data, (rows, cols)), shape=(n_books, n_books))\n",
    "    similarity_df = pd.DataFrame.sparse.from_spmatrix(sparse_matrix, index=all_book_ids, columns=all_book_ids)\n",
    "    \n",
    "    return similarity_df\n",
    "\n",
    "# ПРЕОБРАЗУЕМ СЛОВАРЬ В DATAFRAME\n",
    "print(\"Создание матрицы схожестей...\")\n",
    "item_similarity_df = create_similarity_dataframe(item_similarity_test, all_book_ids)\n",
    "print(f\"Размер матрицы схожестей: {item_similarity_df.shape}\")"
   ]
  },
  {
   "cell_type": "code",
   "execution_count": null,
   "id": "12b218d2-d9ad-4c9e-a08b-011ef400c7bd",
   "metadata": {},
   "outputs": [
    {
     "name": "stdout",
     "output_type": "stream",
     "text": [
      "Запуск оценки моделей...\n"
     ]
    },
    {
     "name": "stderr",
     "output_type": "stream",
     "text": [
      "Evaluating users:   0%|                                                           | 64/40306 [00:39<6:58:42,  1.60it/s]"
     ]
    }
   ],
   "source": [
    "# --- Запуск оценки (K=5) ---\n",
    "print(\"Запуск оценки моделей...\")\n",
    "raw_results = evaluate_models_on_test(test_data, K=5, verbose=False)\n",
    "print(\"Оценка завершена!\")\n"
   ]
  },
  {
   "cell_type": "markdown",
   "id": "14eef6d3-28d7-4a13-9481-4dc7114f767d",
   "metadata": {},
   "source": [
    "#### Создаем сводную таблицу \n",
    "\n"
   ]
  },
  {
   "cell_type": "code",
   "execution_count": 49,
   "id": "738d00f1-31c7-4367-8f16-835c824a6ee1",
   "metadata": {},
   "outputs": [
    {
     "name": "stdout",
     "output_type": "stream",
     "text": [
      "     model  Precision@5  Recall@5   nDCG@5  n_users_evaluated\n",
      "    ItemCF     0.022588  0.070651 0.071411              34584\n",
      "       SVD     0.000867  0.000946 0.001171              34584\n",
      "Popularity     0.000688  0.000144 0.000700              34584\n"
     ]
    }
   ],
   "source": [
    "K = 5  \n",
    "summary = []\n",
    "for model_name, vals in raw_results.items():\n",
    "    summary.append({\n",
    "        'model': model_name,\n",
    "        f'Precision@{K}': np.mean(vals['precisions']) if len(vals['precisions'])>0 else np.nan,\n",
    "        f'Recall@{K}': np.mean(vals['recalls']) if len(vals['recalls'])>0 else np.nan,\n",
    "        f'nDCG@{K}': np.mean(vals['ndcgs']) if len(vals['ndcgs'])>0 else np.nan,\n",
    "        'n_users_evaluated': len(vals['precisions'])\n",
    "    })\n",
    "\n",
    "summary_df = pd.DataFrame(summary).sort_values(by=f'Precision@{K}', ascending=False)\n",
    "print(summary_df.to_string(index=False))"
   ]
  },
  {
   "cell_type": "markdown",
   "id": "1dcdd2e7-82ef-49ca-9256-21d5ef547b30",
   "metadata": {},
   "source": [
    "### Визуализация"
   ]
  },
  {
   "cell_type": "code",
   "execution_count": 50,
   "id": "9b5b7b0c-55d7-4347-9ff0-c5c2f84b2b4a",
   "metadata": {},
   "outputs": [
    {
     "data": {
      "image/png": "[encoded data removed]",
      "text/plain": [
       "<Figure size 1500x500 with 3 Axes>"
      ]
     },
     "metadata": {},
     "output_type": "display_data"
    }
   ],
   "source": [
    "import matplotlib.pyplot as plt\n",
    "\n",
    "fig, axes = plt.subplots(1, 3, figsize=(15, 5))\n",
    "\n",
    "metrics = ['precisions', 'recalls', 'ndcgs']\n",
    "metric_names = [f'Precision@{K}', f'Recall@{K}', f'nDCG@{K}']\n",
    "colors = ['skyblue', 'lightcoral', 'lightgreen']\n",
    "\n",
    "for i, (metric, metric_name) in enumerate(zip(metrics, metric_names)):\n",
    "    values = [np.mean(raw_results[model][metric]) for model in raw_results.keys()]\n",
    "    axes[i].bar(raw_results.keys(), values, color=colors[i], alpha=0.7)\n",
    "    axes[i].set_title(metric_name)\n",
    "    axes[i].set_ylabel(metric_name)\n",
    "    axes[i].tick_params(axis='x', rotation=45)\n",
    "    \n",
    "    # Добавляем значения на столбцы\n",
    "    for j, v in enumerate(values):\n",
    "        axes[i].text(j, v + 0.01, f'{v:.3f}', ha='center', va='bottom')\n",
    "\n",
    "plt.tight_layout()\n",
    "plt.show()"
   ]
  },
  {
   "cell_type": "markdown",
   "id": "70280d9d-eda1-4eee-9a91-bcd8787cda6a",
   "metadata": {},
   "source": [
    "#### анализ результатов "
   ]
  },
  {
   "cell_type": "code",
   "execution_count": 52,
   "id": "e7531353-0b9d-474b-9ba6-c5b7ce0c7db9",
   "metadata": {},
   "outputs": [
    {
     "name": "stdout",
     "output_type": "stream",
     "text": [
      "Лучшая модель по Precision@5: ItemCF (0.0226)\n",
      "Лучшая модель по Recall@5: ItemCF (0.0707)\n",
      "Лучшая модель по nDCG@5: ItemCF (0.0714)\n"
     ]
    }
   ],
   "source": [
    "best_model = summary_df.loc[summary_df[f'Precision@{K}'].idxmax(), 'model']\n",
    "best_precision = summary_df.loc[summary_df[f'Precision@{K}'].idxmax(), f'Precision@{K}']\n",
    "best_recall = summary_df.loc[summary_df[f'Recall@{K}'].idxmax(), f'Recall@{K}']\n",
    "best_ndcg = summary_df.loc[summary_df[f'nDCG@{K}'].idxmax(), f'nDCG@{K}']\n",
    "\n",
    "print(f\"Лучшая модель по Precision@{K}: {best_model} ({best_precision:.4f})\")\n",
    "print(f\"Лучшая модель по Recall@{K}: {summary_df.loc[summary_df[f'Recall@{K}'].idxmax(), 'model']} ({best_recall:.4f})\")\n",
    "print(f\"Лучшая модель по nDCG@{K}: {summary_df.loc[summary_df[f'nDCG@{K}'].idxmax(), 'model']} ({best_ndcg:.4f})\")"
   ]
  },
  {
   "cell_type": "markdown",
   "id": "ecd56006-16cb-4441-851b-ac4b574b9a34",
   "metadata": {},
   "source": [
    "#### Анализ результатов рекомендательных систем\n",
    "\n",
    "Модель Item-Based Collaborative Filtering продемонстрировала наилучшие результаты среди всех tested подходов. Ее метрики качества составляют: Precision@5 - 2.26%, Recall@5 - 7.07% и nDCG@5 - 7.14%\n",
    "\n",
    "В contrast, модели SVD и Popularity показали крайне низкие результаты, не превышающие 0.1% по всем метрикам. \n",
    "\n",
    "Основной проблемой, влияющей на качество всех моделей, является высокая разреженность данных. При 34,584 пользователях и 10,000 книгах в каталоге\n",
    "\n",
    "Преимущество Item-Based CF объясняется его способностью работать с локальными паттернами схожести между книгами, не требуя глобального обучения как SVD-модели.\n",
    "\n",
    "SVD-модель столкнулась с трудностями из-за требования большого объема данных для обучения скрытых факторов и плохой адаптации к холодному старту. Popularity-модель показала наихудшие результаты, поскольку рекомендует одинаковый контент всем пользователям без учета индивидуальных предпочтений."
   ]
  },
  {
   "cell_type": "markdown",
   "id": "7a1c8c6d-cd1c-473a-b8a1-f5e7902691e1",
   "metadata": {},
   "source": [
    "### Этап 6. Гибридизация и выводы\n",
    "По результатам сравнения трёх реализованных моделей — Item-Based Collaborative Filtering (ItemCF), SVD и Popularity — лучшими метриками (Precision@5 = 0.0226, Recall@5 = 0.0707, nDCG@5 = 0.0714) показала себя модель ItemCF.\n",
    "Она лучше всего выявляет схожие предпочтения пользователей, но имеет недостатки: плохо работает для новых книг (проблема «холодного старта») и для пользователей с малым числом оценок.\n",
    "\n",
    "Чтобы компенсировать эти слабые стороны, предложеный гибридный подход:\n",
    "\n",
    "Основная модель: ItemCF — обеспечивает персонализацию и находит книги, похожие на уже понравившиеся.\n",
    "\n",
    "Контентная модель (Content-Based): использует TF-IDF векторизацию описаний книг и подбирает книги с похожим содержанием. Применяется для новых книг или когда пользователь поставил мало оценок.\n",
    "\n",
    "Popularity: добавляется как дополнительный сигнал, чтобы рекомендовать популярные книги при отсутствии данных о пользователе.\n",
    "\n",
    "Финальный взвешенный гибрид вычисляет общую оценку.\n",
    "Такая схема сохраняет преимущества ItemCF, но делает систему устойчивой к холодному старту и повышает разнообразие рекомендаций.\n",
    "\n",
    "#### Обоснование выбора гибридного подхода\n",
    "\n",
    "Проблема холодного старта:\n",
    "ItemCF не может рекомендовать новые книги, так как у них нет оценок.\n",
    "Контентная часть решает это, используя текстовые признаки книги.\n",
    "\n",
    "Недостаток данных о пользователях:\n",
    "При малом числе оценок ItemCF не даёт устойчивых рекомендаций.\n",
    "Здесь помогает популярность и контентная близость.\n",
    "\n",
    "##### Сильные стороны разных подходов:\n",
    "ItemCF — персонализация, качество, понятность.\n",
    "Content-Based — покрытие новых книг, повышение разнообразия.\n",
    "Popularity — стабильная база рекомендаций для новых пользователей."
   ]
  },
  {
   "cell_type": "markdown",
   "id": "da665e15-7da3-4cc7-ba7f-058d6e9eb232",
   "metadata": {},
   "source": [
    "#### Возможные направления улучшения\n",
    "\n",
    "Использовать более сложные текстовые эмбеддинги.\n",
    "Вместо простого TF-IDF можно применить современные модели вроде Word2Vec, FastText или BERT, которые лучше понимают смысл текста описания книги.\n",
    "Это позволит контентной части гибрида находить книги не только по совпадению слов, но и по смысловой близости.\n",
    "\n",
    "Добавить признаки пользователей.\n",
    "Можно учитывать пол, возраст, любимые жанры, активность или время чтения.\n",
    "Такие данные помогут системе точнее подбирать книги, особенно для новых пользователей.\n",
    "\n",
    "Реализовать нейросетевые подходы.\n",
    "Применение Neural Collaborative Filtering (NCF) или AutoEncoder-based моделей позволит автоматически обучать скрытые представления пользователей и книг.\n",
    "Это даст возможность учитывать более сложные зависимости, чем классические CF-модели.\n",
    "\n",
    "Учитывать временные и контекстные факторы.\n",
    "Например, учитывать, какие книги пользователь читал недавно, или строить модели, зависящие от сезона (летние / зимние предпочтения).\n",
    "\n",
    "Добавить диверсификацию и новизну.\n",
    "В дополнение к точности можно оптимизировать выдачу по разнообразию — чтобы рекомендации не были однотипными и включали как популярные, так и редкие книги."
   ]
  },
  {
   "cell_type": "code",
   "execution_count": null,
   "id": "8a4ae541-afba-4541-8bae-5b8c3682e697",
   "metadata": {},
   "outputs": [],
   "source": []
  }
 ],
 "metadata": {
  "kernelspec": {
   "display_name": "Python 3 (ipykernel)",
   "language": "python",
   "name": "python3"
  },
  "language_info": {
   "codemirror_mode": {
    "name": "ipython",
    "version": 3
   },
   "file_extension": ".py",
   "mimetype": "text/x-python",
   "name": "python",
   "nbconvert_exporter": "python",
   "pygments_lexer": "ipython3",
   "version": "3.11.14"
  }
 },
 "nbformat": 4,
 "nbformat_minor": 5
}
